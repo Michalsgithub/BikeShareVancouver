{
 "cells": [
  {
   "cell_type": "markdown",
   "metadata": {},
   "source": [
    "# Machine Learning Project - Bike sharing in Vancouver \n",
    "Michal Velharticky"
   ]
  },
  {
   "cell_type": "markdown",
   "metadata": {},
   "source": [
    "The goal of the project: predict trip duration in seconds (inspired by the NYC taxi Kaggle challenge)"
   ]
  },
  {
   "cell_type": "code",
   "execution_count": 1,
   "metadata": {},
   "outputs": [],
   "source": [
    "import numpy as np   # import numpy\n",
    "import pandas as pd  # import pandas\n",
    "import os\n",
    "import seaborn as sns\n",
    "import matplotlib.pyplot as plt\n",
    "%matplotlib inline\n",
    "import datetime as dt\n",
    "from sklearn.preprocessing import LabelEncoder\n",
    "from geopy.geocoders import Nominatim # client for geocoding web services\n",
    "import pandas as pd\n",
    "import geopandas as gpd\n",
    "import descartes\n",
    "from shapely.geometry import Point, Polygon"
   ]
  },
  {
   "cell_type": "markdown",
   "metadata": {},
   "source": [
    "Each month is to be joined into one file to provide same structure. The files are data is generated continually by Mobi. https://www.mobibikes.ca/en/system-data "
   ]
  },
  {
   "cell_type": "code",
   "execution_count": 2,
   "metadata": {},
   "outputs": [],
   "source": [
    "jan = pd.read_csv('Mobi_System_Data_2020-01.csv')\n",
    "feb = pd.read_csv('Mobi_System_Data_2020-02.csv')\n",
    "mar = pd.read_csv('Mobi_System_Data_2020-03.csv')\n",
    "apr = pd.read_csv('Mobi_System_Data_2020-04.csv')\n",
    "may = pd.read_csv('Mobi_System_Data_2020-05.csv')\n",
    "jun = pd.read_csv('Mobi_System_Data_2020-06.csv')\n",
    "jul = pd.read_csv('Mobi_System_Data_2020-07.csv')\n",
    "aug = pd.read_csv('Mobi_System_Data_2020-08.csv')\n",
    "sep = pd.read_csv('Mobi_System_Data_2020-09.csv')\n",
    "ocb = pd.read_csv('Mobi_System_Data_2020-10.csv')\n",
    "nov = pd.read_csv('Mobi_System_Data_2020-11.csv')\n",
    "dec = pd.read_csv('Mobi_System_Data_2020-12.csv')"
   ]
  },
  {
   "cell_type": "code",
   "execution_count": 3,
   "metadata": {},
   "outputs": [],
   "source": [
    "months = [jan,feb, mar,apr,may,jun,jul,aug,sep,ocb,nov,dec]\n",
    "mobi = pd.concat(months).reset_index(drop=True)"
   ]
  },
  {
   "cell_type": "code",
   "execution_count": 4,
   "metadata": {},
   "outputs": [
    {
     "data": {
      "text/html": [
       "<div>\n",
       "<style scoped>\n",
       "    .dataframe tbody tr th:only-of-type {\n",
       "        vertical-align: middle;\n",
       "    }\n",
       "\n",
       "    .dataframe tbody tr th {\n",
       "        vertical-align: top;\n",
       "    }\n",
       "\n",
       "    .dataframe thead th {\n",
       "        text-align: right;\n",
       "    }\n",
       "</style>\n",
       "<table border=\"1\" class=\"dataframe\">\n",
       "  <thead>\n",
       "    <tr style=\"text-align: right;\">\n",
       "      <th></th>\n",
       "      <th>Departure</th>\n",
       "      <th>Return</th>\n",
       "      <th>Bike</th>\n",
       "      <th>Departure station</th>\n",
       "      <th>Return station</th>\n",
       "      <th>Membership type</th>\n",
       "      <th>Covered distance (m)</th>\n",
       "      <th>Duration (sec.)</th>\n",
       "      <th>Departure battery voltage (mV)</th>\n",
       "      <th>Return battery voltage (mV)</th>\n",
       "      <th>Departure temperature (C)</th>\n",
       "      <th>Return temperature (C)</th>\n",
       "      <th>Stopover duration (sec.)</th>\n",
       "      <th>Number of stopovers</th>\n",
       "      <th>Number of bike stopovers</th>\n",
       "    </tr>\n",
       "  </thead>\n",
       "  <tbody>\n",
       "    <tr>\n",
       "      <th>0</th>\n",
       "      <td>2020-02-01 0:00</td>\n",
       "      <td>2020-02-01 0:00</td>\n",
       "      <td>522.0</td>\n",
       "      <td>0099 Vancouver Art Gallery - North Plaza</td>\n",
       "      <td>0196 Drake &amp; Hornby</td>\n",
       "      <td>365 Plus</td>\n",
       "      <td>994.0</td>\n",
       "      <td>323</td>\n",
       "      <td>3881</td>\n",
       "      <td>4001</td>\n",
       "      <td>12</td>\n",
       "      <td>13</td>\n",
       "      <td>0</td>\n",
       "      <td>0.0</td>\n",
       "      <td>NaN</td>\n",
       "    </tr>\n",
       "    <tr>\n",
       "      <th>1</th>\n",
       "      <td>2020-02-01 0:00</td>\n",
       "      <td>2020-02-01 0:00</td>\n",
       "      <td>539.0</td>\n",
       "      <td>0126 Thurlow &amp; Pendrell</td>\n",
       "      <td>0002 Burrard Station</td>\n",
       "      <td>30 Day Pass</td>\n",
       "      <td>1014.0</td>\n",
       "      <td>565</td>\n",
       "      <td>3697</td>\n",
       "      <td>3768</td>\n",
       "      <td>12</td>\n",
       "      <td>13</td>\n",
       "      <td>0</td>\n",
       "      <td>0.0</td>\n",
       "      <td>NaN</td>\n",
       "    </tr>\n",
       "    <tr>\n",
       "      <th>2</th>\n",
       "      <td>2020-02-01 0:00</td>\n",
       "      <td>2020-02-01 0:00</td>\n",
       "      <td>541.0</td>\n",
       "      <td>0244 10th &amp; Commercial</td>\n",
       "      <td>0281 Windsor &amp; 14th</td>\n",
       "      <td>365 Plus</td>\n",
       "      <td>1390.0</td>\n",
       "      <td>487</td>\n",
       "      <td>3682</td>\n",
       "      <td>3752</td>\n",
       "      <td>12</td>\n",
       "      <td>10</td>\n",
       "      <td>0</td>\n",
       "      <td>0.0</td>\n",
       "      <td>NaN</td>\n",
       "    </tr>\n",
       "    <tr>\n",
       "      <th>3</th>\n",
       "      <td>2020-02-01 0:00</td>\n",
       "      <td>2020-02-01 0:00</td>\n",
       "      <td>1234.0</td>\n",
       "      <td>0074 10th &amp; Main</td>\n",
       "      <td>0112 10th &amp; Oak</td>\n",
       "      <td>365 Standard</td>\n",
       "      <td>1843.0</td>\n",
       "      <td>418</td>\n",
       "      <td>3900</td>\n",
       "      <td>4005</td>\n",
       "      <td>13</td>\n",
       "      <td>15</td>\n",
       "      <td>0</td>\n",
       "      <td>0.0</td>\n",
       "      <td>NaN</td>\n",
       "    </tr>\n",
       "    <tr>\n",
       "      <th>4</th>\n",
       "      <td>2020-02-01 0:00</td>\n",
       "      <td>2020-02-01 0:00</td>\n",
       "      <td>2134.0</td>\n",
       "      <td>0004 Yaletown-Roundhouse Station</td>\n",
       "      <td>0011 Ontario &amp; Seawall</td>\n",
       "      <td>365 Standard</td>\n",
       "      <td>2295.0</td>\n",
       "      <td>474</td>\n",
       "      <td>3877</td>\n",
       "      <td>4027</td>\n",
       "      <td>11</td>\n",
       "      <td>14</td>\n",
       "      <td>0</td>\n",
       "      <td>0.0</td>\n",
       "      <td>NaN</td>\n",
       "    </tr>\n",
       "  </tbody>\n",
       "</table>\n",
       "</div>"
      ],
      "text/plain": [
       "         Departure           Return    Bike  \\\n",
       "0  2020-02-01 0:00  2020-02-01 0:00   522.0   \n",
       "1  2020-02-01 0:00  2020-02-01 0:00   539.0   \n",
       "2  2020-02-01 0:00  2020-02-01 0:00   541.0   \n",
       "3  2020-02-01 0:00  2020-02-01 0:00  1234.0   \n",
       "4  2020-02-01 0:00  2020-02-01 0:00  2134.0   \n",
       "\n",
       "                          Departure station          Return station  \\\n",
       "0  0099 Vancouver Art Gallery - North Plaza     0196 Drake & Hornby   \n",
       "1                   0126 Thurlow & Pendrell    0002 Burrard Station   \n",
       "2                    0244 10th & Commercial     0281 Windsor & 14th   \n",
       "3                          0074 10th & Main         0112 10th & Oak   \n",
       "4          0004 Yaletown-Roundhouse Station  0011 Ontario & Seawall   \n",
       "\n",
       "  Membership type  Covered distance (m)  Duration (sec.)  \\\n",
       "0        365 Plus                 994.0              323   \n",
       "1     30 Day Pass                1014.0              565   \n",
       "2        365 Plus                1390.0              487   \n",
       "3    365 Standard                1843.0              418   \n",
       "4    365 Standard                2295.0              474   \n",
       "\n",
       "   Departure battery voltage (mV)  Return battery voltage (mV)  \\\n",
       "0                            3881                         4001   \n",
       "1                            3697                         3768   \n",
       "2                            3682                         3752   \n",
       "3                            3900                         4005   \n",
       "4                            3877                         4027   \n",
       "\n",
       "   Departure temperature (C)  Return temperature (C)  \\\n",
       "0                         12                      13   \n",
       "1                         12                      13   \n",
       "2                         12                      10   \n",
       "3                         13                      15   \n",
       "4                         11                      14   \n",
       "\n",
       "   Stopover duration (sec.)  Number of stopovers  Number of bike stopovers  \n",
       "0                         0                  0.0                       NaN  \n",
       "1                         0                  0.0                       NaN  \n",
       "2                         0                  0.0                       NaN  \n",
       "3                         0                  0.0                       NaN  \n",
       "4                         0                  0.0                       NaN  "
      ]
     },
     "execution_count": 4,
     "metadata": {},
     "output_type": "execute_result"
    }
   ],
   "source": [
    "mobi.head()"
   ]
  },
  {
   "cell_type": "code",
   "execution_count": 5,
   "metadata": {},
   "outputs": [
    {
     "data": {
      "text/plain": [
       "(572166, 15)"
      ]
     },
     "execution_count": 5,
     "metadata": {},
     "output_type": "execute_result"
    }
   ],
   "source": [
    "mobi.shape"
   ]
  },
  {
   "cell_type": "code",
   "execution_count": 6,
   "metadata": {},
   "outputs": [
    {
     "data": {
      "text/plain": [
       "Index(['Departure', 'Return', 'Bike', 'Departure station', 'Return station',\n",
       "       'Membership type', 'Covered distance (m)', 'Duration (sec.)',\n",
       "       'Departure battery voltage (mV)', 'Return battery voltage (mV)',\n",
       "       'Departure temperature (C)', 'Return temperature (C)',\n",
       "       'Stopover duration (sec.)', 'Number of stopovers',\n",
       "       'Number of bike stopovers'],\n",
       "      dtype='object')"
      ]
     },
     "execution_count": 6,
     "metadata": {},
     "output_type": "execute_result"
    }
   ],
   "source": [
    "mobi.keys()"
   ]
  },
  {
   "cell_type": "code",
   "execution_count": 7,
   "metadata": {},
   "outputs": [
    {
     "name": "stdout",
     "output_type": "stream",
     "text": [
      "<class 'pandas.core.frame.DataFrame'>\n",
      "RangeIndex: 572166 entries, 0 to 572165\n",
      "Data columns (total 15 columns):\n",
      " #   Column                          Non-Null Count   Dtype  \n",
      "---  ------                          --------------   -----  \n",
      " 0   Departure                       572166 non-null  object \n",
      " 1   Return                          572125 non-null  object \n",
      " 2   Bike                            572120 non-null  float64\n",
      " 3   Departure station               572166 non-null  object \n",
      " 4   Return station                  572107 non-null  object \n",
      " 5   Membership type                 572091 non-null  object \n",
      " 6   Covered distance (m)            572166 non-null  float64\n",
      " 7   Duration (sec.)                 572166 non-null  int64  \n",
      " 8   Departure battery voltage (mV)  572166 non-null  int64  \n",
      " 9   Return battery voltage (mV)     572166 non-null  int64  \n",
      " 10  Departure temperature (C)       572166 non-null  int64  \n",
      " 11  Return temperature (C)          572166 non-null  int64  \n",
      " 12  Stopover duration (sec.)        572166 non-null  int64  \n",
      " 13  Number of stopovers             486935 non-null  float64\n",
      " 14  Number of bike stopovers        85231 non-null   float64\n",
      "dtypes: float64(4), int64(6), object(5)\n",
      "memory usage: 65.5+ MB\n"
     ]
    }
   ],
   "source": [
    "mobi.info()"
   ]
  },
  {
   "cell_type": "code",
   "execution_count": 8,
   "metadata": {},
   "outputs": [
    {
     "data": {
      "text/html": [
       "<div>\n",
       "<style scoped>\n",
       "    .dataframe tbody tr th:only-of-type {\n",
       "        vertical-align: middle;\n",
       "    }\n",
       "\n",
       "    .dataframe tbody tr th {\n",
       "        vertical-align: top;\n",
       "    }\n",
       "\n",
       "    .dataframe thead th {\n",
       "        text-align: right;\n",
       "    }\n",
       "</style>\n",
       "<table border=\"1\" class=\"dataframe\">\n",
       "  <thead>\n",
       "    <tr style=\"text-align: right;\">\n",
       "      <th></th>\n",
       "      <th>column_name</th>\n",
       "      <th>nan_count</th>\n",
       "      <th>nan_percentage</th>\n",
       "    </tr>\n",
       "  </thead>\n",
       "  <tbody>\n",
       "    <tr>\n",
       "      <th>14</th>\n",
       "      <td>Number of bike stopovers</td>\n",
       "      <td>486935</td>\n",
       "      <td>0.851038</td>\n",
       "    </tr>\n",
       "    <tr>\n",
       "      <th>13</th>\n",
       "      <td>Number of stopovers</td>\n",
       "      <td>85231</td>\n",
       "      <td>0.148962</td>\n",
       "    </tr>\n",
       "    <tr>\n",
       "      <th>5</th>\n",
       "      <td>Membership type</td>\n",
       "      <td>75</td>\n",
       "      <td>0.000131</td>\n",
       "    </tr>\n",
       "    <tr>\n",
       "      <th>4</th>\n",
       "      <td>Return station</td>\n",
       "      <td>59</td>\n",
       "      <td>0.000103</td>\n",
       "    </tr>\n",
       "    <tr>\n",
       "      <th>2</th>\n",
       "      <td>Bike</td>\n",
       "      <td>46</td>\n",
       "      <td>0.000080</td>\n",
       "    </tr>\n",
       "    <tr>\n",
       "      <th>1</th>\n",
       "      <td>Return</td>\n",
       "      <td>41</td>\n",
       "      <td>0.000072</td>\n",
       "    </tr>\n",
       "    <tr>\n",
       "      <th>0</th>\n",
       "      <td>Departure</td>\n",
       "      <td>0</td>\n",
       "      <td>0.000000</td>\n",
       "    </tr>\n",
       "    <tr>\n",
       "      <th>3</th>\n",
       "      <td>Departure station</td>\n",
       "      <td>0</td>\n",
       "      <td>0.000000</td>\n",
       "    </tr>\n",
       "    <tr>\n",
       "      <th>6</th>\n",
       "      <td>Covered distance (m)</td>\n",
       "      <td>0</td>\n",
       "      <td>0.000000</td>\n",
       "    </tr>\n",
       "    <tr>\n",
       "      <th>7</th>\n",
       "      <td>Duration (sec.)</td>\n",
       "      <td>0</td>\n",
       "      <td>0.000000</td>\n",
       "    </tr>\n",
       "    <tr>\n",
       "      <th>8</th>\n",
       "      <td>Departure battery voltage (mV)</td>\n",
       "      <td>0</td>\n",
       "      <td>0.000000</td>\n",
       "    </tr>\n",
       "    <tr>\n",
       "      <th>9</th>\n",
       "      <td>Return battery voltage (mV)</td>\n",
       "      <td>0</td>\n",
       "      <td>0.000000</td>\n",
       "    </tr>\n",
       "    <tr>\n",
       "      <th>10</th>\n",
       "      <td>Departure temperature (C)</td>\n",
       "      <td>0</td>\n",
       "      <td>0.000000</td>\n",
       "    </tr>\n",
       "    <tr>\n",
       "      <th>11</th>\n",
       "      <td>Return temperature (C)</td>\n",
       "      <td>0</td>\n",
       "      <td>0.000000</td>\n",
       "    </tr>\n",
       "    <tr>\n",
       "      <th>12</th>\n",
       "      <td>Stopover duration (sec.)</td>\n",
       "      <td>0</td>\n",
       "      <td>0.000000</td>\n",
       "    </tr>\n",
       "  </tbody>\n",
       "</table>\n",
       "</div>"
      ],
      "text/plain": [
       "                       column_name  nan_count  nan_percentage\n",
       "14        Number of bike stopovers     486935        0.851038\n",
       "13             Number of stopovers      85231        0.148962\n",
       "5                  Membership type         75        0.000131\n",
       "4                   Return station         59        0.000103\n",
       "2                             Bike         46        0.000080\n",
       "1                           Return         41        0.000072\n",
       "0                        Departure          0        0.000000\n",
       "3                Departure station          0        0.000000\n",
       "6             Covered distance (m)          0        0.000000\n",
       "7                  Duration (sec.)          0        0.000000\n",
       "8   Departure battery voltage (mV)          0        0.000000\n",
       "9      Return battery voltage (mV)          0        0.000000\n",
       "10       Departure temperature (C)          0        0.000000\n",
       "11          Return temperature (C)          0        0.000000\n",
       "12        Stopover duration (sec.)          0        0.000000"
      ]
     },
     "execution_count": 8,
     "metadata": {},
     "output_type": "execute_result"
    }
   ],
   "source": [
    "# Check for percentage of null values as above, there are very little\n",
    "\n",
    "nan_info = pd.DataFrame(mobi.isnull().sum()).reset_index()\n",
    "nan_info.columns = ['column_name', 'nan_count']\n",
    "nan_info.sort_values(by='nan_count', ascending=False, inplace=True)\n",
    "nan_info['nan_percentage'] = nan_info['nan_count']/len(mobi)\n",
    "nan_info"
   ]
  },
  {
   "cell_type": "markdown",
   "metadata": {},
   "source": [
    "The data is fairly clean as missing values go, those I will replace with zero values for further manipulation.\n",
    "Bike, Return, Missing member ship, are going to be drop, seems like an error from the system, etc. \n",
    "The number of bike stopovers gives interesting insight information that 85% are uninterrupted  without a stop. "
   ]
  },
  {
   "cell_type": "code",
   "execution_count": 9,
   "metadata": {},
   "outputs": [],
   "source": [
    "# The bellow rows to drop are categorical values and missing record cannot be replaced\n",
    "\n",
    "mobi['Bike'] = mobi['Bike'].dropna() \n",
    "mobi['Return station'] = mobi['Return station'].dropna()\n",
    "mobi['Return'] = mobi['Return'].dropna()\n",
    "mobi['Membership type'] = mobi['Membership type'].dropna()"
   ]
  },
  {
   "cell_type": "code",
   "execution_count": 10,
   "metadata": {},
   "outputs": [],
   "source": [
    "# Replaces the NaN with zeros\n",
    "\n",
    "mobi['Number of bike stopovers'] = mobi['Number of bike stopovers'].fillna(value=0) \n",
    "mobi['Number of stopovers'] = mobi['Number of stopovers'].fillna(value=0) "
   ]
  },
  {
   "cell_type": "code",
   "execution_count": 11,
   "metadata": {},
   "outputs": [
    {
     "name": "stdout",
     "output_type": "stream",
     "text": [
      "<class 'pandas.core.frame.DataFrame'>\n",
      "RangeIndex: 572166 entries, 0 to 572165\n",
      "Data columns (total 15 columns):\n",
      " #   Column                          Non-Null Count   Dtype  \n",
      "---  ------                          --------------   -----  \n",
      " 0   Departure                       572166 non-null  object \n",
      " 1   Return                          572125 non-null  object \n",
      " 2   Bike                            572120 non-null  float64\n",
      " 3   Departure station               572166 non-null  object \n",
      " 4   Return station                  572107 non-null  object \n",
      " 5   Membership type                 572091 non-null  object \n",
      " 6   Covered distance (m)            572166 non-null  float64\n",
      " 7   Duration (sec.)                 572166 non-null  int64  \n",
      " 8   Departure battery voltage (mV)  572166 non-null  int64  \n",
      " 9   Return battery voltage (mV)     572166 non-null  int64  \n",
      " 10  Departure temperature (C)       572166 non-null  int64  \n",
      " 11  Return temperature (C)          572166 non-null  int64  \n",
      " 12  Stopover duration (sec.)        572166 non-null  int64  \n",
      " 13  Number of stopovers             572166 non-null  float64\n",
      " 14  Number of bike stopovers        572166 non-null  float64\n",
      "dtypes: float64(4), int64(6), object(5)\n",
      "memory usage: 65.5+ MB\n"
     ]
    }
   ],
   "source": [
    "mobi.info()"
   ]
  },
  {
   "cell_type": "code",
   "execution_count": 12,
   "metadata": {},
   "outputs": [
    {
     "data": {
      "text/html": [
       "<div>\n",
       "<style scoped>\n",
       "    .dataframe tbody tr th:only-of-type {\n",
       "        vertical-align: middle;\n",
       "    }\n",
       "\n",
       "    .dataframe tbody tr th {\n",
       "        vertical-align: top;\n",
       "    }\n",
       "\n",
       "    .dataframe thead th {\n",
       "        text-align: right;\n",
       "    }\n",
       "</style>\n",
       "<table border=\"1\" class=\"dataframe\">\n",
       "  <thead>\n",
       "    <tr style=\"text-align: right;\">\n",
       "      <th></th>\n",
       "      <th>Departure</th>\n",
       "      <th>Return</th>\n",
       "      <th>Bike</th>\n",
       "      <th>Departure station</th>\n",
       "      <th>Return station</th>\n",
       "      <th>Membership type</th>\n",
       "      <th>Covered distance (m)</th>\n",
       "      <th>Duration (sec.)</th>\n",
       "      <th>Departure battery voltage (mV)</th>\n",
       "      <th>Return battery voltage (mV)</th>\n",
       "      <th>Departure temperature (C)</th>\n",
       "      <th>Return temperature (C)</th>\n",
       "      <th>Stopover duration (sec.)</th>\n",
       "      <th>Number of stopovers</th>\n",
       "      <th>Number of bike stopovers</th>\n",
       "      <th>Trip Id</th>\n",
       "    </tr>\n",
       "  </thead>\n",
       "  <tbody>\n",
       "    <tr>\n",
       "      <th>0</th>\n",
       "      <td>2020-02-01 0:00</td>\n",
       "      <td>2020-02-01 0:00</td>\n",
       "      <td>522.0</td>\n",
       "      <td>0099 Vancouver Art Gallery - North Plaza</td>\n",
       "      <td>0196 Drake &amp; Hornby</td>\n",
       "      <td>365 Plus</td>\n",
       "      <td>994.0</td>\n",
       "      <td>323</td>\n",
       "      <td>3881</td>\n",
       "      <td>4001</td>\n",
       "      <td>12</td>\n",
       "      <td>13</td>\n",
       "      <td>0</td>\n",
       "      <td>0.0</td>\n",
       "      <td>0.0</td>\n",
       "      <td>1000001</td>\n",
       "    </tr>\n",
       "  </tbody>\n",
       "</table>\n",
       "</div>"
      ],
      "text/plain": [
       "         Departure           Return   Bike  \\\n",
       "0  2020-02-01 0:00  2020-02-01 0:00  522.0   \n",
       "\n",
       "                          Departure station       Return station  \\\n",
       "0  0099 Vancouver Art Gallery - North Plaza  0196 Drake & Hornby   \n",
       "\n",
       "  Membership type  Covered distance (m)  Duration (sec.)  \\\n",
       "0        365 Plus                 994.0              323   \n",
       "\n",
       "   Departure battery voltage (mV)  Return battery voltage (mV)  \\\n",
       "0                            3881                         4001   \n",
       "\n",
       "   Departure temperature (C)  Return temperature (C)  \\\n",
       "0                         12                      13   \n",
       "\n",
       "   Stopover duration (sec.)  Number of stopovers  Number of bike stopovers  \\\n",
       "0                         0                  0.0                       0.0   \n",
       "\n",
       "   Trip Id  \n",
       "0  1000001  "
      ]
     },
     "execution_count": 12,
     "metadata": {},
     "output_type": "execute_result"
    }
   ],
   "source": [
    "# Generation of a'trip id' for identification of a trip and other insights\n",
    "\n",
    "mobi['Trip Id'] = mobi.index + 1000001\n",
    "mobi.head(1) "
   ]
  },
  {
   "cell_type": "code",
   "execution_count": 13,
   "metadata": {},
   "outputs": [
    {
     "data": {
      "text/plain": [
       "572166"
      ]
     },
     "execution_count": 13,
     "metadata": {},
     "output_type": "execute_result"
    }
   ],
   "source": [
    "mobi['Trip Id'].nunique() "
   ]
  },
  {
   "cell_type": "code",
   "execution_count": 14,
   "metadata": {},
   "outputs": [
    {
     "data": {
      "text/plain": [
       "Departure                         0\n",
       "Return                            0\n",
       "Bike                              0\n",
       "Departure station                 0\n",
       "Return station                    0\n",
       "Membership type                   0\n",
       "Covered distance (m)              0\n",
       "Duration (sec.)                   0\n",
       "Departure battery voltage (mV)    0\n",
       "Return battery voltage (mV)       0\n",
       "Departure temperature (C)         0\n",
       "Return temperature (C)            0\n",
       "Stopover duration (sec.)          0\n",
       "Number of stopovers               0\n",
       "Number of bike stopovers          0\n",
       "Trip Id                           0\n",
       "dtype: int64"
      ]
     },
     "execution_count": 14,
     "metadata": {},
     "output_type": "execute_result"
    }
   ],
   "source": [
    "mobi = mobi.dropna()\n",
    "mobi.isnull().sum()"
   ]
  },
  {
   "cell_type": "markdown",
   "metadata": {},
   "source": [
    "Let's look into each column, now that our file is with no nan values"
   ]
  },
  {
   "cell_type": "code",
   "execution_count": null,
   "metadata": {},
   "outputs": [],
   "source": []
  },
  {
   "cell_type": "code",
   "execution_count": null,
   "metadata": {},
   "outputs": [],
   "source": []
  },
  {
   "cell_type": "code",
   "execution_count": null,
   "metadata": {},
   "outputs": [],
   "source": []
  },
  {
   "cell_type": "markdown",
   "metadata": {},
   "source": [
    "# Bike"
   ]
  },
  {
   "cell_type": "code",
   "execution_count": 94,
   "metadata": {},
   "outputs": [
    {
     "name": "stdout",
     "output_type": "stream",
     "text": [
      "Number of bikes in the fleet is 2054\n"
     ]
    }
   ],
   "source": [
    "print(\"Number of bikes in the fleet is\", mobi.Bike.nunique())"
   ]
  },
  {
   "cell_type": "markdown",
   "metadata": {},
   "source": [
    "The BIXI network has more than 8,000 bikes and 660 stations."
   ]
  },
  {
   "cell_type": "markdown",
   "metadata": {},
   "source": [
    "# Membership type\n"
   ]
  },
  {
   "cell_type": "code",
   "execution_count": 95,
   "metadata": {},
   "outputs": [
    {
     "data": {
      "text/plain": [
       "30 Day Pass                       0.249209\n",
       "365 Standard                      0.150415\n",
       "24 Hour                           0.142217\n",
       "365 Plus                          0.140753\n",
       "Vancity Community Pass            0.050055\n",
       "365 Day Founding Plus             0.048045\n",
       "365 Corporate Plus                0.046199\n",
       "365 Corporate Plus Renewal        0.036149\n",
       "365 Day Founding Standard         0.034706\n",
       "365 Corporate Standard            0.023230\n",
       "90 Day                            0.022726\n",
       "365 Corporate Standard Renewal    0.017244\n",
       "Single Trip Pass                  0.008118\n",
       "VIP                               0.007269\n",
       "365 Day Pass Plus SALE            0.006155\n",
       "Archived Monthly Standard         0.005033\n",
       "365 Day Pass Standard SALE        0.004745\n",
       "Archived Monthly Plus             0.003563\n",
       "Community Pass                    0.003127\n",
       "Shared Mobility Pass              0.000988\n",
       "Archived Monthly Basic            0.000031\n",
       "HOPR Pass                         0.000023\n",
       "Name: Membership type, dtype: float64"
      ]
     },
     "execution_count": 95,
     "metadata": {},
     "output_type": "execute_result"
    }
   ],
   "source": [
    "mobi['Membership type'].value_counts(normalize=True)"
   ]
  },
  {
   "cell_type": "code",
   "execution_count": 96,
   "metadata": {},
   "outputs": [
    {
     "data": {
      "image/png": "[encoded data removed]",
      "text/plain": [
       "<Figure size 1152x360 with 1 Axes>"
      ]
     },
     "metadata": {
      "needs_background": "light"
     },
     "output_type": "display_data"
    }
   ],
   "source": [
    "plt.figure(figsize=(16,5))\n",
    "sns.countplot(x='Membership type', data=mobi)\n",
    "plt.ylabel('')\n",
    "plt.xlabel('')\n",
    "plt.title('Membership type Distribution', color='black')\n",
    "plt.xticks(rotation= 80,size=14)\n",
    "plt.yticks(size=14)\n",
    "\n",
    "plt.show()"
   ]
  },
  {
   "cell_type": "markdown",
   "metadata": {},
   "source": [
    "I would like to recommend consideration of the availability of so many kinds of membership types. Some of the fewer favorites could be more unified in order to provide a smoother user experience. "
   ]
  },
  {
   "cell_type": "markdown",
   "metadata": {},
   "source": [
    "# Covered distance (m)\n"
   ]
  },
  {
   "cell_type": "code",
   "execution_count": 97,
   "metadata": {},
   "outputs": [
    {
     "name": "stdout",
     "output_type": "stream",
     "text": [
      "Average trip distance is 2858.475309171386\n",
      "Maximum trip distance is 3674220.0\n"
     ]
    }
   ],
   "source": [
    "print(\"Average trip distance is\", mobi['Covered distance (m)'].mean())\n",
    "print(\"Maximum trip distance is\", mobi['Covered distance (m)'].max())"
   ]
  },
  {
   "cell_type": "code",
   "execution_count": 98,
   "metadata": {},
   "outputs": [
    {
     "data": {
      "text/plain": [
       "<matplotlib.axes._subplots.AxesSubplot at 0x7fcdb67b2fd0>"
      ]
     },
     "execution_count": 98,
     "metadata": {},
     "output_type": "execute_result"
    },
    {
     "data": {
      "image/png": "[encoded data removed]",
      "text/plain": [
       "<Figure size 1008x288 with 1 Axes>"
      ]
     },
     "metadata": {
      "needs_background": "light"
     },
     "output_type": "display_data"
    }
   ],
   "source": [
    "# Displays top ten longest trips\n",
    "\n",
    "how_far = mobi['Covered distance (m)'].value_counts()\n",
    "how_far.head(10).plot(kind='barh', title='Ten highest distances',  \n",
    "                       colormap='Spectral', fontsize=14, figsize=(14,4)) "
   ]
  },
  {
   "cell_type": "markdown",
   "metadata": {},
   "source": [
    "There aren't really records of distace about 10km"
   ]
  },
  {
   "cell_type": "code",
   "execution_count": 99,
   "metadata": {},
   "outputs": [
    {
     "data": {
      "image/png": "[encoded data removed]",
      "text/plain": [
       "<Figure size 1008x288 with 1 Axes>"
      ]
     },
     "metadata": {
      "needs_background": "light"
     },
     "output_type": "display_data"
    }
   ],
   "source": [
    "# Displaying trip below 10km distance\n",
    "\n",
    "under10k = mobi[mobi['Covered distance (m)']< 10000]\n",
    "hist = under10k['Covered distance (m)'].hist(bins=10, color='black', \n",
    "                figsize=(14,4)).set_title('Covered distance (m) under 10km ')"
   ]
  },
  {
   "cell_type": "markdown",
   "metadata": {},
   "source": [
    "We can discard any records over 10km. The service is not used for such distances."
   ]
  },
  {
   "cell_type": "code",
   "execution_count": 100,
   "metadata": {},
   "outputs": [
    {
     "data": {
      "text/plain": [
       "(572029, 16)"
      ]
     },
     "execution_count": 100,
     "metadata": {},
     "output_type": "execute_result"
    }
   ],
   "source": [
    "# Replaces outliers with missing Nan. \n",
    "\n",
    "mobi.loc[mobi['Covered distance (m)'] > 10000, 'Covered distance (m)'] = np.nan\n",
    "mobi.shape"
   ]
  },
  {
   "cell_type": "code",
   "execution_count": 101,
   "metadata": {},
   "outputs": [],
   "source": [
    "# Nan are filled with mean value\n",
    "\n",
    "mobi['Covered distance (m)'] = mobi['Covered distance (m)'].fillna(mobi['Covered distance (m)'].mean())"
   ]
  },
  {
   "cell_type": "markdown",
   "metadata": {},
   "source": [
    "# Duration (sec.)"
   ]
  },
  {
   "cell_type": "code",
   "execution_count": 102,
   "metadata": {},
   "outputs": [],
   "source": [
    "# Conversion of seconds to minutes for a better sense of the the information\n",
    "\n",
    "mobi['Duration (min.)'] = mobi['Duration (sec.)'] / 60"
   ]
  },
  {
   "cell_type": "code",
   "execution_count": 103,
   "metadata": {},
   "outputs": [
    {
     "name": "stdout",
     "output_type": "stream",
     "text": [
      "Average trip duration is 22.9671947576086 minutes\n",
      "Maximum trip duration is 34406.98333333333 minutes\n"
     ]
    }
   ],
   "source": [
    "print(\"Average trip duration is\", mobi['Duration (min.)'].mean(), \"minutes\")\n",
    "print(\"Maximum trip duration is\", mobi['Duration (min.)'].max(), \"minutes\")"
   ]
  },
  {
   "cell_type": "code",
   "execution_count": 104,
   "metadata": {},
   "outputs": [
    {
     "data": {
      "image/png": "[encoded data removed]",
      "text/plain": [
       "<Figure size 1008x288 with 1 Axes>"
      ]
     },
     "metadata": {
      "needs_background": "light"
     },
     "output_type": "display_data"
    }
   ],
   "source": [
    "# Displays trips over 90 minutes in duration \n",
    "\n",
    "over60mins = mobi[mobi['Duration (min.)'] > 90]\n",
    "hist = over60mins['Duration (min.)'].hist(bins=90, color='red', \n",
    "                figsize=(14,4)).set_title('Covered distance (m) under 10km')"
   ]
  },
  {
   "cell_type": "code",
   "execution_count": 105,
   "metadata": {},
   "outputs": [
    {
     "data": {
      "image/png": "[encoded data removed]",
      "text/plain": [
       "<Figure size 1008x288 with 1 Axes>"
      ]
     },
     "metadata": {
      "needs_background": "light"
     },
     "output_type": "display_data"
    }
   ],
   "source": [
    "# Displays trips over 90 minutes in duration \n",
    "\n",
    "under60mins = mobi[mobi['Duration (min.)'] < 90]\n",
    "hist = under60mins['Duration (min.)'].hist(bins=90, color='black', \n",
    "                figsize=(14,4)).set_title('Trip Duration under 1 1/2 hour')"
   ]
  },
  {
   "cell_type": "markdown",
   "metadata": {},
   "source": [
    "Realistic values for a trip duration are kept. I think the longer trips in distance or duration are in the interests of tourists to whom daily or multiple-day rentals are a better choice. "
   ]
  },
  {
   "cell_type": "code",
   "execution_count": 106,
   "metadata": {},
   "outputs": [
    {
     "data": {
      "text/plain": [
       "(572029, 17)"
      ]
     },
     "execution_count": 106,
     "metadata": {},
     "output_type": "execute_result"
    }
   ],
   "source": [
    "# Replaces outliers with missing Nan\n",
    "\n",
    "mobi.loc[mobi['Duration (min.)'] > 90, 'Duration (min.)'] = np.nan\n",
    "mobi.shape"
   ]
  },
  {
   "cell_type": "code",
   "execution_count": 107,
   "metadata": {},
   "outputs": [],
   "source": [
    "# Nan are filled with mean value\n",
    "\n",
    "mobi['Duration (min.)'] = mobi['Duration (min.)'].fillna(mobi['Duration (min.)'].mean())"
   ]
  },
  {
   "cell_type": "markdown",
   "metadata": {},
   "source": [
    "# Stopover duration (sec.)\n"
   ]
  },
  {
   "cell_type": "code",
   "execution_count": 108,
   "metadata": {},
   "outputs": [],
   "source": [
    "# Conversion of seconds to minutes for a better sense of the the information\n",
    "\n",
    "mobi['Stopover duration (min.)'] = mobi['Stopover duration (sec.)'] / 60"
   ]
  },
  {
   "cell_type": "code",
   "execution_count": 109,
   "metadata": {},
   "outputs": [
    {
     "name": "stdout",
     "output_type": "stream",
     "text": [
      "Average trip duration is 1.4298111342839896 minutes\n",
      "Maximum trip duration is 30023.4 minutes\n"
     ]
    }
   ],
   "source": [
    "print(\"Average trip duration is\", mobi['Stopover duration (min.)'].mean(), \"minutes\")\n",
    "print(\"Maximum trip duration is\", mobi['Stopover duration (min.)'].max(), \"minutes\")"
   ]
  },
  {
   "cell_type": "code",
   "execution_count": 110,
   "metadata": {},
   "outputs": [
    {
     "data": {
      "image/png": "[encoded data removed]",
      "text/plain": [
       "<Figure size 1152x288 with 1 Axes>"
      ]
     },
     "metadata": {
      "needs_background": "light"
     },
     "output_type": "display_data"
    }
   ],
   "source": [
    "# Displays the distribution of Stopover duration in minutes\n",
    "\n",
    "hist = mobi['Stopover duration (min.)'].hist(color='black', \n",
    "                figsize=(16,4)).set_title('Stopover duration (min.)') "
   ]
  },
  {
   "cell_type": "markdown",
   "metadata": {},
   "source": [
    "Let's think of a reasonable length of a stop. We need to consider that there are about 250  stations, therefore there's no reason to keep being charged for the bike."
   ]
  },
  {
   "cell_type": "code",
   "execution_count": 111,
   "metadata": {},
   "outputs": [
    {
     "data": {
      "image/png": "[encoded data removed]",
      "text/plain": [
       "<Figure size 1152x288 with 1 Axes>"
      ]
     },
     "metadata": {
      "needs_background": "light"
     },
     "output_type": "display_data"
    }
   ],
   "source": [
    "# Displays stopover duration in minutes uder 60mins\n",
    "\n",
    "casual_stop = mobi[mobi['Stopover duration (min.)'] < 60]\n",
    "hist = casual_stop['Stopover duration (min.)'].hist(bins=10, color='black', \n",
    "                figsize=(16,4)).set_title('Stops under than 60mins ')"
   ]
  },
  {
   "cell_type": "code",
   "execution_count": 112,
   "metadata": {},
   "outputs": [
    {
     "data": {
      "image/png": "[encoded data removed]",
      "text/plain": [
       "<Figure size 1152x288 with 1 Axes>"
      ]
     },
     "metadata": {
      "needs_background": "light"
     },
     "output_type": "display_data"
    }
   ],
   "source": [
    "# Displays stopover duration in minutes over 60mins\n",
    "\n",
    "long_stop = mobi[mobi['Stopover duration (min.)'] > 60]\n",
    "hist = long_stop['Stopover duration (min.)'].hist(bins=60, color='black', \n",
    "                figsize=(16,4)).set_title('Stops longer than 60mins ')"
   ]
  },
  {
   "cell_type": "markdown",
   "metadata": {},
   "source": [
    "Any trips above 60mins are removed. "
   ]
  },
  {
   "cell_type": "code",
   "execution_count": 113,
   "metadata": {},
   "outputs": [
    {
     "data": {
      "text/plain": [
       "(572029, 18)"
      ]
     },
     "execution_count": 113,
     "metadata": {},
     "output_type": "execute_result"
    }
   ],
   "source": [
    "# Replaces outliers with missing Nan\n",
    "\n",
    "mobi.loc[mobi['Stopover duration (min.)'] > 60, 'Stopover duration (min.)'] = np.nan\n",
    "mobi.shape"
   ]
  },
  {
   "cell_type": "code",
   "execution_count": 114,
   "metadata": {},
   "outputs": [],
   "source": [
    "# Droped outliers are filled with mean value\n",
    "\n",
    "mobi['Stopover duration (min.)'] = mobi['Stopover duration (min.)'].fillna(mobi['Stopover duration (min.)'].mean())"
   ]
  },
  {
   "cell_type": "markdown",
   "metadata": {},
   "source": [
    "# Number of stopovers & Number of bike stopovers "
   ]
  },
  {
   "cell_type": "markdown",
   "metadata": {},
   "source": [
    "A 'Stopover' is when a bike is locked using the cable lock rather than at a station, where a stop over is the stop using the bike terminal. "
   ]
  },
  {
   "cell_type": "code",
   "execution_count": 115,
   "metadata": {},
   "outputs": [
    {
     "data": {
      "text/plain": [
       "0.0     0.971671\n",
       "1.0     0.020289\n",
       "2.0     0.004210\n",
       "3.0     0.001351\n",
       "4.0     0.000846\n",
       "5.0     0.000731\n",
       "6.0     0.000489\n",
       "7.0     0.000266\n",
       "8.0     0.000091\n",
       "9.0     0.000042\n",
       "10.0    0.000009\n",
       "14.0    0.000002\n",
       "13.0    0.000002\n",
       "11.0    0.000002\n",
       "Name: Number of stopovers, dtype: float64"
      ]
     },
     "execution_count": 115,
     "metadata": {},
     "output_type": "execute_result"
    }
   ],
   "source": [
    "mobi['Number of stopovers'].value_counts(normalize=True)"
   ]
  },
  {
   "cell_type": "code",
   "execution_count": 116,
   "metadata": {},
   "outputs": [
    {
     "name": "stdout",
     "output_type": "stream",
     "text": [
      "Average Number of stopovers is 0.04585606673787518\n",
      "Maximum Number of stopovers is 14.0\n"
     ]
    }
   ],
   "source": [
    "print(\"Average Number of stopovers is\",mobi['Number of stopovers'].mean())\n",
    "print(\"Maximum Number of stopovers is\", mobi['Number of stopovers'].max())"
   ]
  },
  {
   "cell_type": "code",
   "execution_count": 117,
   "metadata": {},
   "outputs": [
    {
     "data": {
      "text/plain": [
       "0.0     0.994563\n",
       "1.0     0.003659\n",
       "2.0     0.000785\n",
       "3.0     0.000336\n",
       "4.0     0.000208\n",
       "5.0     0.000166\n",
       "6.0     0.000164\n",
       "7.0     0.000066\n",
       "8.0     0.000040\n",
       "9.0     0.000007\n",
       "13.0    0.000002\n",
       "11.0    0.000002\n",
       "10.0    0.000002\n",
       "Name: Number of bike stopovers, dtype: float64"
      ]
     },
     "execution_count": 117,
     "metadata": {},
     "output_type": "execute_result"
    }
   ],
   "source": [
    "mobi['Number of bike stopovers'].value_counts(normalize=True)"
   ]
  },
  {
   "cell_type": "code",
   "execution_count": 118,
   "metadata": {},
   "outputs": [
    {
     "name": "stdout",
     "output_type": "stream",
     "text": [
      "Average Number of bike stopovers is 0.009793209784818601\n",
      "Maximum Number of bike stopovers is 13.0\n"
     ]
    }
   ],
   "source": [
    "print(\"Average Number of bike stopovers is\", mobi['Number of bike stopovers'].mean())\n",
    "print(\"Maximum Number of bike stopovers is\", mobi['Number of bike stopovers'].max())"
   ]
  },
  {
   "cell_type": "markdown",
   "metadata": {},
   "source": [
    "There's are some outliers and I will not use any records with more than 2 stopovers in both cases. We have seen, the service is used more for commute rather than sightseeing purpose."
   ]
  },
  {
   "cell_type": "code",
   "execution_count": 119,
   "metadata": {},
   "outputs": [],
   "source": [
    "# Replaces outliers with missing Nan\n",
    "\n",
    "mobi.loc[mobi['Number of stopovers'] > 2, 'Number of stopovers'] = np.nan\n",
    "mobi.loc[mobi['Number of bike stopovers'] > 2, 'Number of bike stopovers'] = np.nan"
   ]
  },
  {
   "cell_type": "code",
   "execution_count": 120,
   "metadata": {},
   "outputs": [],
   "source": [
    "# Droped outliers are filled with mean value\n",
    "\n",
    "mobi['Number of stopovers'] = mobi['Number of stopovers'].fillna(value=0)\n",
    "mobi['Number of bike stopovers'] = mobi['Number of bike stopovers'].fillna(value=0)"
   ]
  },
  {
   "cell_type": "markdown",
   "metadata": {},
   "source": [
    "# Departure &  Return station"
   ]
  },
  {
   "cell_type": "code",
   "execution_count": 121,
   "metadata": {},
   "outputs": [
    {
     "name": "stdout",
     "output_type": "stream",
     "text": [
      "The number of Departure Stations is:  225\n",
      "The number of Return Stations is:  224\n"
     ]
    }
   ],
   "source": [
    "print('The number of Departure Stations is: ',mobi['Departure station'].nunique())\n",
    "print('The number of Return Stations is: ',mobi['Return station'].nunique())"
   ]
  },
  {
   "cell_type": "code",
   "execution_count": 122,
   "metadata": {},
   "outputs": [
    {
     "data": {
      "text/plain": [
       "<matplotlib.axes._subplots.AxesSubplot at 0x7fcdbdf0de10>"
      ]
     },
     "execution_count": 122,
     "metadata": {},
     "output_type": "execute_result"
    },
    {
     "data": {
      "image/png": "[encoded data removed]",
      "text/plain": [
       "<Figure size 720x432 with 1 Axes>"
      ]
     },
     "metadata": {},
     "output_type": "display_data"
    }
   ],
   "source": [
    "top_depart_stations = mobi['Departure station'].value_counts()\n",
    "top_depart_stations.head(10).plot(kind='pie', title='Ten most used Departure stations', figsize=(10,6), \n",
    "                       colormap='seismic', fontsize=14) "
   ]
  },
  {
   "cell_type": "code",
   "execution_count": 123,
   "metadata": {},
   "outputs": [
    {
     "data": {
      "text/plain": [
       "<matplotlib.axes._subplots.AxesSubplot at 0x7fcdb8699c90>"
      ]
     },
     "execution_count": 123,
     "metadata": {},
     "output_type": "execute_result"
    },
    {
     "data": {
      "image/png": "[encoded data removed]",
      "text/plain": [
       "<Figure size 720x432 with 1 Axes>"
      ]
     },
     "metadata": {},
     "output_type": "display_data"
    }
   ],
   "source": [
    "top_return_stations = mobi['Return station'].value_counts()\n",
    "top_return_stations.head(10).plot(kind='pie', title='Ten most used Return stations', figsize=(10,6), \n",
    "                       colormap='Spectral', fontsize=14)"
   ]
  },
  {
   "cell_type": "markdown",
   "metadata": {},
   "source": [
    "# Generating longitude & latidute for the machine learning purposes"
   ]
  },
  {
   "cell_type": "code",
   "execution_count": 124,
   "metadata": {},
   "outputs": [],
   "source": [
    "# Creates an array of all the stations\n",
    "\n",
    "Departure_station_name = mobi['Departure station'].unique()\n",
    "Return_station_name = mobi['Return station'].unique()"
   ]
  },
  {
   "cell_type": "code",
   "execution_count": 125,
   "metadata": {},
   "outputs": [
    {
     "data": {
      "text/plain": [
       "['0099 Vancouver Art Gallery - North Plaza, Vancouver',\n",
       " '0126 Thurlow & Pendrell, Vancouver',\n",
       " '0244 10th & Commercial, Vancouver',\n",
       " '0074 10th & Main, Vancouver',\n",
       " '0004 Yaletown-Roundhouse Station, Vancouver',\n",
       " '0109 7th & Arbutus, Vancouver',\n",
       " '0019 Robson & Hornby, Vancouver',\n",
       " '0036 Bute & Robson, Vancouver',\n",
       " '0079 Nelson & Richards, Vancouver',\n",
       " '0134 14th & Main, Vancouver',\n",
       " '0174 1st & Manitoba, Vancouver',\n",
       " '0027 Beatty & Nelson, Vancouver',\n",
       " '0287 Carolina & Great Northern Way, Vancouver',\n",
       " '0078 Nelson & Mainland, Vancouver',\n",
       " '0070 10th & Granville, Vancouver',\n",
       " '0015 Granville & Georgia, Vancouver',\n",
       " '0037 Hornby & Nelson, Vancouver',\n",
       " '0055 Keefer & Columbia, Vancouver',\n",
       " '0063 Robson & Granville, Vancouver',\n",
       " '0191 7th & Laurel, Vancouver',\n",
       " '0080 Laurel & Broadway, Vancouver',\n",
       " '0050 Bute & Comox, Vancouver',\n",
       " '0005 Dunsmuir & Beatty, Vancouver',\n",
       " '0002 Burrard Station, Vancouver',\n",
       " '0092 Chilco & Barclay, Vancouver',\n",
       " '0107 8th & Ontario, Vancouver',\n",
       " '0021 Cordova & Granville, Vancouver',\n",
       " '0081 7th & Heather, Vancouver',\n",
       " '0212 Union & Dunlevy, Vancouver',\n",
       " '0196 Drake & Hornby, Vancouver',\n",
       " '0030 Abbott & Cordova, Vancouver',\n",
       " '0193 Science World, Vancouver',\n",
       " '0238 Thornton & 1st, Vancouver',\n",
       " '0298 6th & Carolina, Vancouver',\n",
       " '0258 13th & St George, Vancouver',\n",
       " '0171 5th & Yukon, Vancouver',\n",
       " '0008 8th & Ash, Vancouver',\n",
       " '0039 Helmcken & Burrard, Vancouver',\n",
       " '0123 Georgia & Thurlow, Vancouver',\n",
       " '0064 Expo & Smithe, Vancouver',\n",
       " '0280 Triumph & Victoria, Vancouver',\n",
       " '0072 14th & Cambie, Vancouver',\n",
       " '0077 Vanier Park, Vancouver',\n",
       " '0041 Cardero & Robson, Vancouver',\n",
       " '0017 Marinaside & Davie, Vancouver',\n",
       " '0012 Dunsmuir & Richards, Vancouver',\n",
       " '0281 Windsor & 14th, Vancouver',\n",
       " '0187 Bute & Davie, Vancouver',\n",
       " '0088 Harwood & Bute, Vancouver',\n",
       " '0981 Workshop - Service Complete, Vancouver',\n",
       " '0073 Ontario & 5th, Vancouver',\n",
       " '0112 10th & Oak, Vancouver',\n",
       " '0068 Cypress & Broadway, Vancouver',\n",
       " '0167 Cordova & Columbia, Vancouver',\n",
       " '0098 Carrall & Hastings, Vancouver',\n",
       " '0242 8th & Commercial, Vancouver',\n",
       " '0208 Arbutus Greenway & Broadway, Vancouver',\n",
       " '0138 Richards & Helmcken, Vancouver',\n",
       " '0052 Cambie & Water, Vancouver',\n",
       " '0048 Comox & Broughton, Vancouver',\n",
       " '0154 Kitsilano Beach Park, Vancouver',\n",
       " '0172 10th & Columbia, Vancouver',\n",
       " '0011 Ontario & Seawall, Vancouver',\n",
       " '0106 Heather & 14th, Vancouver',\n",
       " '0001 10th & Cambie, Vancouver',\n",
       " '0108 1st & Chestnut, Vancouver',\n",
       " '0205 Pine & 10th, Vancouver',\n",
       " '0190 Melville & Bute, Vancouver',\n",
       " '0035 Coal Harbour Community Centre, Vancouver',\n",
       " '0130 Heather & 16th, Vancouver',\n",
       " '0032 Comox & Denman, Vancouver',\n",
       " '0227 Campbell & Hastings, Vancouver',\n",
       " '0179 11th & Kingsway, Vancouver',\n",
       " '0260 10th & Fraser, Vancouver',\n",
       " '0026 Beatty & Robson, Vancouver',\n",
       " '0221 Glen & Union, Vancouver',\n",
       " '0066 Anderson & 2nd, Vancouver',\n",
       " '0024 Hornby & Pender, Vancouver',\n",
       " '0060 Bidwell & Burnaby, Vancouver',\n",
       " '0165 Columbia & 4th, Vancouver',\n",
       " '0053 Keefer & Abbott, Vancouver',\n",
       " '0159 Vine & 4th, Vancouver',\n",
       " '0006 Olympic Village Station, Vancouver',\n",
       " '0206 8th & Scotia, Vancouver',\n",
       " '0222 Adanac & McLean, Vancouver',\n",
       " '0014 Canada Place, Vancouver',\n",
       " '0201 Shaw Tower, Vancouver',\n",
       " '0087 Broughton & Burnaby, Vancouver',\n",
       " '0199 Georgia & Main, Vancouver',\n",
       " '0254 Grandview Bike Lane & Commercial, Vancouver',\n",
       " '0140 Burrard & 7th, Vancouver',\n",
       " '0176 10th & Ontario, Vancouver',\n",
       " '0119 3rd & Quebec, Vancouver',\n",
       " '0225 McLean & Pender, Vancouver',\n",
       " '0218 Carrall & Seawall, Vancouver',\n",
       " '0125 Hamilton & Robson, Vancouver',\n",
       " '0230 Alexander & Railway, Vancouver',\n",
       " '0233 Thornton & National, Vancouver',\n",
       " '0150 Alexander & Main, Vancouver',\n",
       " '0009 Spyglass & Seawall, Vancouver',\n",
       " '0040 Cardero & Pendrell, Vancouver',\n",
       " '0133 Ontario & 16th, Vancouver',\n",
       " '0253 Charles & Woodland, Vancouver',\n",
       " '0045 Beach & Hornby, Vancouver',\n",
       " '0105 Stanley Park - Totem Poles, Vancouver',\n",
       " '0173 1st & Columbia, Vancouver',\n",
       " '0177 Quebec & 1st, Vancouver',\n",
       " '0096 Nicola & Robson, Vancouver',\n",
       " '0248 St George & Broadway, Vancouver',\n",
       " '0198 6th & Main, Vancouver',\n",
       " '0057 Marinaside & Cooperage, Vancouver',\n",
       " '0054 Expo & Carrall, Vancouver',\n",
       " '0143 South False Creek Seawall, Vancouver',\n",
       " '0082 Richards & Davie, Vancouver',\n",
       " '0047 Chilco & Beach, Vancouver',\n",
       " '0237 Glen & 6th, Vancouver',\n",
       " '0211 14th & Alder, Vancouver',\n",
       " '0089 Burrard & Drake, Vancouver',\n",
       " '0132 14th & Ontario, Vancouver',\n",
       " '0236 Keith & 6th, Vancouver',\n",
       " '0071 14th & Granville, Vancouver',\n",
       " '0148 Creekside Park North, Vancouver',\n",
       " '0272 Pender & Victoria, Vancouver',\n",
       " '0166 Alder & 11th, Vancouver',\n",
       " '0058 Homer & Smithe, Vancouver',\n",
       " '0255 18th & Main, Vancouver',\n",
       " '0115 Cypress & 16th, Vancouver',\n",
       " '0186 10th & Kingsway, Vancouver',\n",
       " '0044 Pacific & Richards, Vancouver',\n",
       " '0262 8th & Prince Edward, Vancouver',\n",
       " '0139 Burrard & 4th, Vancouver',\n",
       " '0076 Cypress & 4th, Vancouver',\n",
       " '0283 15th & Knight, Vancouver',\n",
       " '0250 Woodland & 4th, Vancouver',\n",
       " '0083 Aquatic Centre, Vancouver',\n",
       " '0215 Princess & Union, Vancouver',\n",
       " '0252 Woodland & Graveley, Vancouver',\n",
       " '0266 St Catherines & 7th, Vancouver',\n",
       " '0110 5th & Arbutus, Vancouver',\n",
       " '0065 Cypress & Cornwall, Vancouver',\n",
       " '0297 6th & Prince Edward, Vancouver',\n",
       " '0239 Grant & Commercial, Vancouver',\n",
       " '0114 Cypress & 14th, Vancouver',\n",
       " '0113 Arbutus & 16th, Vancouver',\n",
       " '0093 Chilco & Robson, Vancouver',\n",
       " '0069 7th & Granville, Vancouver',\n",
       " '0136 David Lam Park - West, Vancouver',\n",
       " '0161 Alexander & Dunlevy, Vancouver',\n",
       " '0152 Arbutus Greenway & 14th, Vancouver',\n",
       " '0197 1st &¬†Scotia, Vancouver',\n",
       " '0016 Pender & Burrard, Vancouver',\n",
       " '0207 Alberni & Jervis, Vancouver',\n",
       " '0033 Robson & Denman, Vancouver',\n",
       " '0229 Keefer & Princess, Vancouver',\n",
       " '0246 Glen & Broadway, Vancouver',\n",
       " '0232 Britannia Parking Lot, Vancouver',\n",
       " '0241 4th & Commercial, Vancouver',\n",
       " '0147 Chestnut & McNicoll, Vancouver',\n",
       " '0025 Homer & Robson, Vancouver',\n",
       " '0034 Cordova & Bute, Vancouver',\n",
       " '0155 Arbutus & McNicoll, Vancouver',\n",
       " '0209 Stanley Park - Information Booth, Vancouver',\n",
       " '0235 Charles & Commercial, Vancouver',\n",
       " '0007 12th & Yukon, Vancouver',\n",
       " '0285 Commercial & Pandora, Vancouver',\n",
       " '0234 Station & National, Vancouver',\n",
       " '0223 Commercial & Adanac, Vancouver',\n",
       " '0103 Stanley Park - Third Beach Parking Lot, Vancouver',\n",
       " '0031 Morton & Denman, Vancouver',\n",
       " '0104 Stanley Park - Second Beach South, Vancouver',\n",
       " '0203 Pine & 14th, Vancouver',\n",
       " '0028 Davie & Beach, Vancouver',\n",
       " '0102 Stanley Park - Second Beach North, Vancouver',\n",
       " '0219 Hawks & Union, Vancouver',\n",
       " '0192 7th &  Alder, Vancouver',\n",
       " '0101 Stanley Park - Vancouver Aquarium, Vancouver',\n",
       " '0137 Beach & Seymour, Vancouver',\n",
       " '0180 Columbia & 14th, Vancouver',\n",
       " '0084 Sunset Beach West, Vancouver',\n",
       " '0231 Napier & Commercial, Vancouver',\n",
       " \"0010 Stamp's Landing, Vancouver\",\n",
       " '0224 Pender & Commercial, Vancouver',\n",
       " '0261 8th & Fraser, Vancouver',\n",
       " '0153 Arbutus Greenway & Fir, Vancouver',\n",
       " '0282 14th & Fraser, Vancouver',\n",
       " '0202 14th & Oak, Vancouver',\n",
       " '0213 Pender & Gore, Vancouver',\n",
       " '0240 2nd & Commercial, Vancouver',\n",
       " '0249 7th & Woodland, Vancouver',\n",
       " '0204 York & Yew, Vancouver',\n",
       " '0256 Prince Edward & 16th, Vancouver',\n",
       " '0245 Woodland & 10th, Vancouver',\n",
       " '0257 Prince Edward & 14th, Vancouver',\n",
       " '0274 Victoria & 10th, Vancouver',\n",
       " '0265 St Catherines & 10th, Vancouver',\n",
       " '0278 15th & Victoria, Vancouver',\n",
       " '0273 Victoria & 4th, Vancouver',\n",
       " '0228 Keefer & Hawks, Vancouver',\n",
       " '0980 Workshop - Balancer Bike Check In, Vancouver',\n",
       " '0129 Richards & Robson - TEMP REMOVED, Vancouver',\n",
       " '0051 Smithe & Burrard, Vancouver',\n",
       " '0170 8th & Yukon, Vancouver',\n",
       " '0300 Bute & Barclay, Vancouver',\n",
       " '0982 Workshop - Bike Testing, Vancouver',\n",
       " '0991 HQ Workshop, Vancouver',\n",
       " '0197 1st &Â\\xa0Scotia, Vancouver',\n",
       " '0082 Richards & Davie - TEMP REMOVED, Vancouver',\n",
       " '0058 Homer & Smithe - TEMP REMOVED, Vancouver',\n",
       " '0010 Stamps Landing, Vancouver',\n",
       " '0002 Burrard Station (Melville & Dunsmuir), Vancouver',\n",
       " '0217 Smithe & Burrard, Vancouver',\n",
       " '0025 Homer & Robson (Vancouver Public Library), Vancouver',\n",
       " '0197 1st & Scotia, Vancouver',\n",
       " '0278 15th & Victoria (Trout Lake), Vancouver',\n",
       " '0007 12th & Yukon (City Hall), Vancouver',\n",
       " '9999 Smoove_atelier, Vancouver',\n",
       " '0198 5th & Main, Vancouver',\n",
       " '0985 Yard - Long Term Storage, Vancouver',\n",
       " '0227 Campbell & Hastings - TEMP REMOVED, Vancouver',\n",
       " '0124 Richards & Cordova, Vancouver',\n",
       " '0211 14th & Alder - TEMP REMOVED, Vancouver',\n",
       " '0165 Columbia & 4th - TEMP REMOVED, Vancouver',\n",
       " '0986 Quebec Yard - Serviced, Vancouver',\n",
       " '0985 Quebec Yard - To Service, Vancouver',\n",
       " '0995 Workshop - On Deck, Vancouver']"
      ]
     },
     "execution_count": 125,
     "metadata": {},
     "output_type": "execute_result"
    }
   ],
   "source": [
    "# It is not a possible to use only the streets for the tasks of generation, \n",
    "# so complete the address ', Vancouver' is added\n",
    "\n",
    "string = ', Vancouver'\n",
    "Departure_station_name_updated = [x + string for x in Departure_station_name]\n",
    "Departure_station_name_updated"
   ]
  },
  {
   "cell_type": "code",
   "execution_count": 126,
   "metadata": {
    "scrolled": true
   },
   "outputs": [
    {
     "data": {
      "text/plain": [
       "['0196 Drake & Hornby, Vancouver',\n",
       " '0002 Burrard Station, Vancouver',\n",
       " '0281 Windsor & 14th, Vancouver',\n",
       " '0112 10th & Oak, Vancouver',\n",
       " '0011 Ontario & Seawall, Vancouver',\n",
       " '0065 Cypress & Cornwall, Vancouver',\n",
       " '0280 Triumph & Victoria, Vancouver',\n",
       " '0019 Robson & Hornby, Vancouver',\n",
       " '0004 Yaletown-Roundhouse Station, Vancouver',\n",
       " '0005 Dunsmuir & Beatty, Vancouver',\n",
       " '0177 Quebec & 1st, Vancouver',\n",
       " '0001 10th & Cambie, Vancouver',\n",
       " '0191 7th & Laurel, Vancouver',\n",
       " '0140 Burrard & 7th, Vancouver',\n",
       " '0058 Homer & Smithe, Vancouver',\n",
       " '0134 14th & Main, Vancouver',\n",
       " '0211 14th & Alder, Vancouver',\n",
       " '0078 Nelson & Mainland, Vancouver',\n",
       " '0040 Cardero & Pendrell, Vancouver',\n",
       " '0088 Harwood & Bute, Vancouver',\n",
       " '0069 7th & Granville, Vancouver',\n",
       " '0174 1st & Manitoba, Vancouver',\n",
       " '0032 Comox & Denman, Vancouver',\n",
       " '0064 Expo & Smithe, Vancouver',\n",
       " '0187 Bute & Davie, Vancouver',\n",
       " '0092 Chilco & Barclay, Vancouver',\n",
       " '0165 Columbia & 4th, Vancouver',\n",
       " '0030 Abbott & Cordova, Vancouver',\n",
       " '0167 Cordova & Columbia, Vancouver',\n",
       " '0006 Olympic Village Station, Vancouver',\n",
       " '0221 Glen & Union, Vancouver',\n",
       " '0179 11th & Kingsway, Vancouver',\n",
       " '0035 Coal Harbour Community Centre, Vancouver',\n",
       " '0173 1st & Columbia, Vancouver',\n",
       " '0206 8th & Scotia, Vancouver',\n",
       " '0017 Marinaside & Davie, Vancouver',\n",
       " '0055 Keefer & Columbia, Vancouver',\n",
       " '0218 Carrall & Seawall, Vancouver',\n",
       " '0166 Alder & 11th, Vancouver',\n",
       " '0057 Marinaside & Cooperage, Vancouver',\n",
       " '0015 Granville & Georgia, Vancouver',\n",
       " '0036 Bute & Robson, Vancouver',\n",
       " '0154 Kitsilano Beach Park, Vancouver',\n",
       " '0028 Davie & Beach, Vancouver',\n",
       " '0282 14th & Fraser, Vancouver',\n",
       " '0115 Cypress & 16th, Vancouver',\n",
       " '0244 10th & Commercial, Vancouver',\n",
       " '0298 6th & Carolina, Vancouver',\n",
       " '0204 York & Yew, Vancouver',\n",
       " '0063 Robson & Granville, Vancouver',\n",
       " '0242 8th & Commercial, Vancouver',\n",
       " '0048 Comox & Broughton, Vancouver',\n",
       " '0138 Richards & Helmcken, Vancouver',\n",
       " '0234 Station & National, Vancouver',\n",
       " '0297 6th & Prince Edward, Vancouver',\n",
       " '0150 Alexander & Main, Vancouver',\n",
       " '0070 10th & Granville, Vancouver',\n",
       " '0224 Pender & Commercial, Vancouver',\n",
       " '0239 Grant & Commercial, Vancouver',\n",
       " '0008 8th & Ash, Vancouver',\n",
       " '0252 Woodland & Graveley, Vancouver',\n",
       " '0215 Princess & Union, Vancouver',\n",
       " '0037 Hornby & Nelson, Vancouver',\n",
       " '0041 Cardero & Robson, Vancouver',\n",
       " '0081 7th & Heather, Vancouver',\n",
       " '0133 Ontario & 16th, Vancouver',\n",
       " '0172 10th & Columbia, Vancouver',\n",
       " '0255 18th & Main, Vancouver',\n",
       " '0266 St Catherines & 7th, Vancouver',\n",
       " '0052 Cambie & Water, Vancouver',\n",
       " '0060 Bidwell & Burnaby, Vancouver',\n",
       " '0050 Bute & Comox, Vancouver',\n",
       " '0024 Hornby & Pender, Vancouver',\n",
       " '0199 Georgia & Main, Vancouver',\n",
       " '0253 Charles & Woodland, Vancouver',\n",
       " '0260 10th & Fraser, Vancouver',\n",
       " '0053 Keefer & Abbott, Vancouver',\n",
       " '0123 Georgia & Thurlow, Vancouver',\n",
       " '0258 13th & St George, Vancouver',\n",
       " '0087 Broughton & Burnaby, Vancouver',\n",
       " '0108 1st & Chestnut, Vancouver',\n",
       " '0212 Union & Dunlevy, Vancouver',\n",
       " '0287 Carolina & Great Northern Way, Vancouver',\n",
       " '0076 Cypress & 4th, Vancouver',\n",
       " '0208 Arbutus Greenway & Broadway, Vancouver',\n",
       " '0222 Adanac & McLean, Vancouver',\n",
       " '0283 15th & Knight, Vancouver',\n",
       " '0143 South False Creek Seawall, Vancouver',\n",
       " '0073 Ontario & 5th, Vancouver',\n",
       " '0083 Aquatic Centre, Vancouver',\n",
       " '0248 St George & Broadway, Vancouver',\n",
       " '0089 Burrard & Drake, Vancouver',\n",
       " '0119 3rd & Quebec, Vancouver',\n",
       " '0039 Helmcken & Burrard, Vancouver',\n",
       " '0198 6th & Main, Vancouver',\n",
       " '0107 8th & Ontario, Vancouver',\n",
       " '0171 5th & Yukon, Vancouver',\n",
       " '0034 Cordova & Bute, Vancouver',\n",
       " '0027 Beatty & Nelson, Vancouver',\n",
       " '0236 Keith & 6th, Vancouver',\n",
       " '0099 Vancouver Art Gallery - North Plaza, Vancouver',\n",
       " '0225 McLean & Pender, Vancouver',\n",
       " '0126 Thurlow & Pendrell, Vancouver',\n",
       " '0229 Keefer & Princess, Vancouver',\n",
       " '0193 Science World, Vancouver',\n",
       " '0230 Alexander & Railway, Vancouver',\n",
       " '0016 Pender & Burrard, Vancouver',\n",
       " '0084 Sunset Beach West, Vancouver',\n",
       " '0045 Beach & Hornby, Vancouver',\n",
       " '0021 Cordova & Granville, Vancouver',\n",
       " '0096 Nicola & Robson, Vancouver',\n",
       " '0136 David Lam Park - West, Vancouver',\n",
       " '0102 Stanley Park - Second Beach North, Vancouver',\n",
       " '0261 8th & Fraser, Vancouver',\n",
       " '0105 Stanley Park - Totem Poles, Vancouver',\n",
       " '0201 Shaw Tower, Vancouver',\n",
       " '0132 14th & Ontario, Vancouver',\n",
       " '0066 Anderson & 2nd, Vancouver',\n",
       " '0098 Carrall & Hastings, Vancouver',\n",
       " '0079 Nelson & Richards, Vancouver',\n",
       " '0009 Spyglass & Seawall, Vancouver',\n",
       " '0033 Robson & Denman, Vancouver',\n",
       " '0238 Thornton & 1st, Vancouver',\n",
       " '0233 Thornton & National, Vancouver',\n",
       " '0082 Richards & Davie, Vancouver',\n",
       " '0068 Cypress & Broadway, Vancouver',\n",
       " '0072 14th & Cambie, Vancouver',\n",
       " '0054 Expo & Carrall, Vancouver',\n",
       " '0014 Canada Place, Vancouver',\n",
       " '0190 Melville & Bute, Vancouver',\n",
       " '0176 10th & Ontario, Vancouver',\n",
       " '0044 Pacific & Richards, Vancouver',\n",
       " '0106 Heather & 14th, Vancouver',\n",
       " '0980 Workshop - Balancer Bike Check In, Vancouver',\n",
       " '0012 Dunsmuir & Richards, Vancouver',\n",
       " '0026 Beatty & Robson, Vancouver',\n",
       " '0148 Creekside Park North, Vancouver',\n",
       " '0080 Laurel & Broadway, Vancouver',\n",
       " '0202 14th & Oak, Vancouver',\n",
       " '0113 Arbutus & 16th, Vancouver',\n",
       " '0205 Pine & 10th, Vancouver',\n",
       " '0213 Pender & Gore, Vancouver',\n",
       " '0130 Heather & 16th, Vancouver',\n",
       " '0007 12th & Yukon, Vancouver',\n",
       " '0227 Campbell & Hastings, Vancouver',\n",
       " '0207 Alberni & Jervis, Vancouver',\n",
       " '0237 Glen & 6th, Vancouver',\n",
       " '0153 Arbutus Greenway & Fir, Vancouver',\n",
       " '0197 1st &¬†Scotia, Vancouver',\n",
       " '0093 Chilco & Robson, Vancouver',\n",
       " '0254 Grandview Bike Lane & Commercial, Vancouver',\n",
       " '0047 Chilco & Beach, Vancouver',\n",
       " \"0010 Stamp's Landing, Vancouver\",\n",
       " '0152 Arbutus Greenway & 14th, Vancouver',\n",
       " '0031 Morton & Denman, Vancouver',\n",
       " '0246 Glen & Broadway, Vancouver',\n",
       " '0240 2nd & Commercial, Vancouver',\n",
       " '0209 Stanley Park - Information Booth, Vancouver',\n",
       " '0245 Woodland & 10th, Vancouver',\n",
       " '0272 Pender & Victoria, Vancouver',\n",
       " '0262 8th & Prince Edward, Vancouver',\n",
       " '0186 10th & Kingsway, Vancouver',\n",
       " '0228 Keefer & Hawks, Vancouver',\n",
       " '0192 7th &  Alder, Vancouver',\n",
       " '0109 7th & Arbutus, Vancouver',\n",
       " '0223 Commercial & Adanac, Vancouver',\n",
       " '0180 Columbia & 14th, Vancouver',\n",
       " '0125 Hamilton & Robson, Vancouver',\n",
       " '0025 Homer & Robson, Vancouver',\n",
       " '0159 Vine & 4th, Vancouver',\n",
       " '0285 Commercial & Pandora, Vancouver',\n",
       " '0139 Burrard & 4th, Vancouver',\n",
       " '0137 Beach & Seymour, Vancouver',\n",
       " '0104 Stanley Park - Second Beach South, Vancouver',\n",
       " '0232 Britannia Parking Lot, Vancouver',\n",
       " '0241 4th & Commercial, Vancouver',\n",
       " '0147 Chestnut & McNicoll, Vancouver',\n",
       " '0103 Stanley Park - Third Beach Parking Lot, Vancouver',\n",
       " '0203 Pine & 14th, Vancouver',\n",
       " '0110 5th & Arbutus, Vancouver',\n",
       " '0101 Stanley Park - Vancouver Aquarium, Vancouver',\n",
       " '0071 14th & Granville, Vancouver',\n",
       " '0161 Alexander & Dunlevy, Vancouver',\n",
       " '0155 Arbutus & McNicoll, Vancouver',\n",
       " '0274 Victoria & 10th, Vancouver',\n",
       " '0231 Napier & Commercial, Vancouver',\n",
       " '0981 Workshop - Service Complete, Vancouver',\n",
       " '0250 Woodland & 4th, Vancouver',\n",
       " '0219 Hawks & Union, Vancouver',\n",
       " '0077 Vanier Park, Vancouver',\n",
       " '0235 Charles & Commercial, Vancouver',\n",
       " '0256 Prince Edward & 16th, Vancouver',\n",
       " '0265 St Catherines & 10th, Vancouver',\n",
       " '0114 Cypress & 14th, Vancouver',\n",
       " '0273 Victoria & 4th, Vancouver',\n",
       " '0074 10th & Main, Vancouver',\n",
       " '0249 7th & Woodland, Vancouver',\n",
       " '0278 15th & Victoria, Vancouver',\n",
       " '0982 Workshop - Bike Testing, Vancouver',\n",
       " '0257 Prince Edward & 14th, Vancouver',\n",
       " '0129 Richards & Robson - TEMP REMOVED, Vancouver',\n",
       " '0051 Smithe & Burrard, Vancouver',\n",
       " '0170 8th & Yukon, Vancouver',\n",
       " '0300 Bute & Barclay, Vancouver',\n",
       " '0197 1st &Â\\xa0Scotia, Vancouver',\n",
       " '0082 Richards & Davie - TEMP REMOVED, Vancouver',\n",
       " '0058 Homer & Smithe - TEMP REMOVED, Vancouver',\n",
       " '0002 Burrard Station (Melville & Dunsmuir), Vancouver',\n",
       " '0010 Stamps Landing, Vancouver',\n",
       " '0025 Homer & Robson (Vancouver Public Library), Vancouver',\n",
       " '0007 12th & Yukon (City Hall), Vancouver',\n",
       " '0197 1st & Scotia, Vancouver',\n",
       " '0217 Smithe & Burrard, Vancouver',\n",
       " '0278 15th & Victoria (Trout Lake), Vancouver',\n",
       " '0991 HQ Workshop, Vancouver',\n",
       " '0198 5th & Main, Vancouver',\n",
       " '0985 Yard - Long Term Storage, Vancouver',\n",
       " '0227 Campbell & Hastings - TEMP REMOVED, Vancouver',\n",
       " '0124 Richards & Cordova, Vancouver',\n",
       " '0211 14th & Alder - TEMP REMOVED, Vancouver',\n",
       " '0985 Quebec Yard - To Service, Vancouver',\n",
       " '0165 Columbia & 4th - TEMP REMOVED, Vancouver',\n",
       " '0986 Quebec Yard - Serviced, Vancouver',\n",
       " '0995 Workshop - On Deck, Vancouver']"
      ]
     },
     "execution_count": 126,
     "metadata": {},
     "output_type": "execute_result"
    }
   ],
   "source": [
    "string = ', Vancouver'\n",
    "Return_station_name_uptaded = [str(x) + string for x in Return_station_name]\n",
    "Return_station_name_uptaded"
   ]
  },
  {
   "cell_type": "code",
   "execution_count": 127,
   "metadata": {},
   "outputs": [],
   "source": [
    "# Dictionary is created taking the previous address and the updated address\n",
    "# in order to replace the list of addresses \n",
    "# '0196 Drake & Hornby': '0196 Drake & Hornby, Vancouver'\n",
    "\n",
    "departure_station_dictionary  = dict(zip(Departure_station_name, Departure_station_name_updated))\n",
    "return_station_dictionary = dict(zip(Return_station_name, Return_station_name_uptaded))"
   ]
  },
  {
   "cell_type": "code",
   "execution_count": 128,
   "metadata": {},
   "outputs": [],
   "source": [
    "# Applying the dictionaries\n",
    "\n",
    "mobi['Departure station'] = mobi['Departure station'].replace(departure_station_dictionary)\n",
    "mobi['Return station'] = mobi['Return station'].replace(return_station_dictionary)"
   ]
  },
  {
   "cell_type": "code",
   "execution_count": 129,
   "metadata": {},
   "outputs": [
    {
     "data": {
      "text/plain": [
       "0    0099 Vancouver Art Gallery - North Plaza, Vanc...\n",
       "Name: Departure station, dtype: object"
      ]
     },
     "execution_count": 129,
     "metadata": {},
     "output_type": "execute_result"
    }
   ],
   "source": [
    "mobi['Departure station'].head(1)"
   ]
  },
  {
   "cell_type": "code",
   "execution_count": 130,
   "metadata": {},
   "outputs": [],
   "source": [
    "# During the generation there were several addresses that needed a correction \n",
    "# for example: \"TEMP REMOVED\", \"¬†Scotia\", etc. \n",
    "\n",
    "location_name_correction = {\n",
    "        '0174 1st & Manitoba, Vancouver':'88w W 1st Ave, Vancouver',\n",
    "        '0037 Hornby & Nelson, Vancouver':'991 Hornby St, Vancouver',\n",
    "        '0981 Workshop - Service Complete, Vancouver':'0981 Workshop, Vancouver',\n",
    "        '0154 Kitsilano Beach, Vancouver':'0154 Kitsilano, Vancouver',\n",
    "        '0197 1st &¬†Scotia, Vancouver':'0197 1st & Main, Vancouver',\n",
    "        '0282 14th & Fraser, Vancouver':'2120 Fir St, Vancouver',\n",
    "        '0228 Keefer & Hawks, Vancouver':'799 Keefer St, Vancouver',\n",
    "        '0980 Workshop - Balancer Bike Check In, Vancouver':'0980 Workshop, Vancouver',\n",
    "        '0129 Richards & Robson - TEMP REMOVED, Vancouver':'0129 Richards & Robson, Vancouver',\n",
    "        '0982 Workshop - Bike Testing, Vancouver':'0982 Workshop, Vancouver',\n",
    "        '0991 HQ Workshop, Vancouver':'0991 Workshop, Vancouver',\n",
    "        '0082 Richards & Davie - TEMP REMOVED, Vancouver':'0082 Richards & Davie, Vancouver',\n",
    "        '0058 Homer & Smithe - TEMP REMOVED, Vancouver':'0058 Homer & Smithe, Vancouver',\n",
    "        '0985 Yard - Long Term Storage, Vancouver':'0985 Yard, Vancouver',\n",
    "        '0165 Columbia & 4th - TEMP REMOVED, Vancouver':'0165 Columbia & 4th, Vancouver',\n",
    "        '0986 Quebec Yard - Serviced, Vancouver':'0986 Quebec Yard, Vancouver',\n",
    "        '0985 Quebec Yard - To Service, Vancouver':'0985 Quebec Yard, Vancouver',\n",
    "        '0995 Workshop - On Deck, Vancouver':'0995 Workshop, Vancouver',\n",
    "        '0196 Drake & Hornby, Vancouver':'0196 Drake, Vancouver',\n",
    "        '0060 Bidwell & Burnaby, Vancouver':'1264 Bidwell St, Vancouver',\n",
    "        '0153 Arbutus Greenway & Fir, Vancouver':'0153 Arbutus Greenway, Vancouver',\n",
    "        '9999 Smoove_atelier, Vancouver':'453 West 12th Ave, Vancouver',\n",
    "        '0197 1st &Â\\xa0Scotia, Vancouver':'0197 1st & Main, Vancouver',\n",
    "        '0002 Burrard Station (Melville & Dunsmuir), Vancouver':'0002 Burrard Station, Vancouver',\n",
    "        '0025 Homer & Robson (Vancouver Public Library), Vancouver':'0025 Homer & Robson, Vancouver',\n",
    "        '0278 15th & Victoria (Trout Lake), Vancouver':'0278 15th & Victoria, Vancouver',\n",
    "        '0007 12th & Yukon (City Hall), Vancouver':'0007 12th & Yukon, Vancouver',\n",
    "        '0227 Campbell & Hastings - TEMP REMOVED, Vancouver':'0227 Campbell & Hastings, Vancouver',\n",
    "        '0211 14th & Alder - TEMP REMOVED, Vancouver':'0211 14th & Alder, Vancouver',\n",
    "        '0154 Kitsilano Beach Park, Vancouver':'0154 Kitsilano Park, Vancouver'\n",
    "}\n",
    "\n",
    "mobi['Departure station'] = mobi['Departure station'].replace(location_name_correction)\n",
    "mobi['Return station'] = mobi['Return station'].replace(location_name_correction)"
   ]
  },
  {
   "cell_type": "code",
   "execution_count": 131,
   "metadata": {},
   "outputs": [],
   "source": [
    "# There are about 250 stations but 500k rows, the generations of longitude and latidute \n",
    "# would take a very longtime, therefore it would be applied with a dictrionary. \n",
    "# Address matching with longitude and latidute. \n",
    "\n",
    "departure_array = mobi['Departure station'].unique()\n",
    "return_array = mobi['Return station'].unique()"
   ]
  },
  {
   "cell_type": "code",
   "execution_count": 132,
   "metadata": {},
   "outputs": [
    {
     "data": {
      "text/html": [
       "<div>\n",
       "<style scoped>\n",
       "    .dataframe tbody tr th:only-of-type {\n",
       "        vertical-align: middle;\n",
       "    }\n",
       "\n",
       "    .dataframe tbody tr th {\n",
       "        vertical-align: top;\n",
       "    }\n",
       "\n",
       "    .dataframe thead th {\n",
       "        text-align: right;\n",
       "    }\n",
       "</style>\n",
       "<table border=\"1\" class=\"dataframe\">\n",
       "  <thead>\n",
       "    <tr style=\"text-align: right;\">\n",
       "      <th></th>\n",
       "      <th>Departure name</th>\n",
       "    </tr>\n",
       "  </thead>\n",
       "  <tbody>\n",
       "    <tr>\n",
       "      <th>0</th>\n",
       "      <td>0099 Vancouver Art Gallery - North Plaza, Vanc...</td>\n",
       "    </tr>\n",
       "  </tbody>\n",
       "</table>\n",
       "</div>"
      ],
      "text/plain": [
       "                                      Departure name\n",
       "0  0099 Vancouver Art Gallery - North Plaza, Vanc..."
      ]
     },
     "execution_count": 132,
     "metadata": {},
     "output_type": "execute_result"
    }
   ],
   "source": [
    "# Creates a small dataframe for more effective generation \n",
    "# the generation of longitude and latidute \n",
    "\n",
    "departureName_df = pd.DataFrame({'Departure name': departure_array})\n",
    "departureName_df.head(1)"
   ]
  },
  {
   "cell_type": "code",
   "execution_count": 133,
   "metadata": {},
   "outputs": [
    {
     "data": {
      "text/html": [
       "<div>\n",
       "<style scoped>\n",
       "    .dataframe tbody tr th:only-of-type {\n",
       "        vertical-align: middle;\n",
       "    }\n",
       "\n",
       "    .dataframe tbody tr th {\n",
       "        vertical-align: top;\n",
       "    }\n",
       "\n",
       "    .dataframe thead th {\n",
       "        text-align: right;\n",
       "    }\n",
       "</style>\n",
       "<table border=\"1\" class=\"dataframe\">\n",
       "  <thead>\n",
       "    <tr style=\"text-align: right;\">\n",
       "      <th></th>\n",
       "      <th>Return name</th>\n",
       "    </tr>\n",
       "  </thead>\n",
       "  <tbody>\n",
       "    <tr>\n",
       "      <th>0</th>\n",
       "      <td>0196 Drake, Vancouver</td>\n",
       "    </tr>\n",
       "  </tbody>\n",
       "</table>\n",
       "</div>"
      ],
      "text/plain": [
       "             Return name\n",
       "0  0196 Drake, Vancouver"
      ]
     },
     "execution_count": 133,
     "metadata": {},
     "output_type": "execute_result"
    }
   ],
   "source": [
    "returnName_df = pd.DataFrame({'Return name': return_array})\n",
    "returnName_df.head(1)"
   ]
  },
  {
   "cell_type": "code",
   "execution_count": 134,
   "metadata": {},
   "outputs": [],
   "source": [
    "geolocator = Nominatim(user_agent='https://www.google.ca/maps?source=tldsi&hl=cs')\n",
    "departureName_df['Departure lat&long'] = departureName_df['Departure name'].apply(geolocator.geocode, timeout=2).apply(lambda x: (x.latitude, x.longitude))"
   ]
  },
  {
   "cell_type": "code",
   "execution_count": 135,
   "metadata": {},
   "outputs": [
    {
     "data": {
      "text/html": [
       "<div>\n",
       "<style scoped>\n",
       "    .dataframe tbody tr th:only-of-type {\n",
       "        vertical-align: middle;\n",
       "    }\n",
       "\n",
       "    .dataframe tbody tr th {\n",
       "        vertical-align: top;\n",
       "    }\n",
       "\n",
       "    .dataframe thead th {\n",
       "        text-align: right;\n",
       "    }\n",
       "</style>\n",
       "<table border=\"1\" class=\"dataframe\">\n",
       "  <thead>\n",
       "    <tr style=\"text-align: right;\">\n",
       "      <th></th>\n",
       "      <th>Departure name</th>\n",
       "      <th>Departure lat&amp;long</th>\n",
       "    </tr>\n",
       "  </thead>\n",
       "  <tbody>\n",
       "    <tr>\n",
       "      <th>0</th>\n",
       "      <td>0099 Vancouver Art Gallery - North Plaza, Vanc...</td>\n",
       "      <td>'(49.2831979, -123.1204825)'</td>\n",
       "    </tr>\n",
       "  </tbody>\n",
       "</table>\n",
       "</div>"
      ],
      "text/plain": [
       "                                      Departure name  \\\n",
       "0  0099 Vancouver Art Gallery - North Plaza, Vanc...   \n",
       "\n",
       "             Departure lat&long  \n",
       "0  '(49.2831979, -123.1204825)'  "
      ]
     },
     "execution_count": 135,
     "metadata": {},
     "output_type": "execute_result"
    }
   ],
   "source": [
    "# Updated of the Departure lat&long with '' for the dictionary\n",
    "\n",
    "departureName_df.update(\"'\" + departureName_df[['Departure lat&long']].astype(str)+\"'\")\n",
    "departureName_df.head(1)"
   ]
  },
  {
   "cell_type": "code",
   "execution_count": 136,
   "metadata": {},
   "outputs": [],
   "source": [
    "geolocator = Nominatim(user_agent='https://www.google.ca/maps?source=tldsi&hl=cs')\n",
    "returnName_df['Return lat&long'] = returnName_df['Return name'].apply(geolocator.geocode, timeout=3).apply(lambda x: (x.latitude, x.longitude))"
   ]
  },
  {
   "cell_type": "code",
   "execution_count": 137,
   "metadata": {},
   "outputs": [
    {
     "data": {
      "text/html": [
       "<div>\n",
       "<style scoped>\n",
       "    .dataframe tbody tr th:only-of-type {\n",
       "        vertical-align: middle;\n",
       "    }\n",
       "\n",
       "    .dataframe tbody tr th {\n",
       "        vertical-align: top;\n",
       "    }\n",
       "\n",
       "    .dataframe thead th {\n",
       "        text-align: right;\n",
       "    }\n",
       "</style>\n",
       "<table border=\"1\" class=\"dataframe\">\n",
       "  <thead>\n",
       "    <tr style=\"text-align: right;\">\n",
       "      <th></th>\n",
       "      <th>Return name</th>\n",
       "      <th>Return lat&amp;long</th>\n",
       "    </tr>\n",
       "  </thead>\n",
       "  <tbody>\n",
       "    <tr>\n",
       "      <th>0</th>\n",
       "      <td>0196 Drake, Vancouver</td>\n",
       "      <td>'(49.2753898, -123.1267317)'</td>\n",
       "    </tr>\n",
       "  </tbody>\n",
       "</table>\n",
       "</div>"
      ],
      "text/plain": [
       "             Return name               Return lat&long\n",
       "0  0196 Drake, Vancouver  '(49.2753898, -123.1267317)'"
      ]
     },
     "execution_count": 137,
     "metadata": {},
     "output_type": "execute_result"
    }
   ],
   "source": [
    "returnName_df.update(\"'\" + returnName_df[['Return lat&long']].astype(str)+\"'\")\n",
    "returnName_df.head(1)"
   ]
  },
  {
   "cell_type": "code",
   "execution_count": 138,
   "metadata": {},
   "outputs": [],
   "source": [
    "return_name_array= returnName_df['Return name'].unique()\n",
    "return_lat_long_array = returnName_df['Return lat&long'].unique()\n",
    "\n",
    "return_station_dictionary = dict(zip(return_name_array, return_lat_long_array))"
   ]
  },
  {
   "cell_type": "code",
   "execution_count": 139,
   "metadata": {},
   "outputs": [],
   "source": [
    "depart_name_array = departureName_df['Departure name'].unique()\n",
    "depart_lat_long_array = departureName_df['Departure lat&long'].unique()\n",
    "\n",
    "departure_station_dictionary = dict(zip(depart_name_array, depart_lat_long_array))"
   ]
  },
  {
   "cell_type": "code",
   "execution_count": 140,
   "metadata": {},
   "outputs": [],
   "source": [
    "mobi['Departure station Lat & Long'] = mobi['Departure station']\n",
    "mobi['Return station Lat & Long']= mobi['Return station']"
   ]
  },
  {
   "cell_type": "code",
   "execution_count": 141,
   "metadata": {
    "scrolled": true
   },
   "outputs": [
    {
     "data": {
      "text/plain": [
       "{'0196 Drake, Vancouver': \"'(49.2753898, -123.1267317)'\",\n",
       " '0002 Burrard Station, Vancouver': \"'(49.2856364, -123.1198152)'\",\n",
       " '0281 Windsor & 14th, Vancouver': \"'(49.2580237, -123.0833488)'\",\n",
       " '0112 10th & Oak, Vancouver': \"'(49.2622734, -123.12616)'\",\n",
       " '0011 Ontario & Seawall, Vancouver': \"'(49.2716914, -123.1042968)'\",\n",
       " '0065 Cypress & Cornwall, Vancouver': \"'(49.2727532, -123.1477204)'\",\n",
       " '0280 Triumph & Victoria, Vancouver': \"'(49.2839768, -123.0652119)'\",\n",
       " '0019 Robson & Hornby, Vancouver': \"'(49.2827328, -123.1220614)'\",\n",
       " '0004 Yaletown-Roundhouse Station, Vancouver': \"'(49.2745376, -123.121905)'\",\n",
       " '0005 Dunsmuir & Beatty, Vancouver': \"'(49.2797102, -123.1100831)'\",\n",
       " '0177 Quebec & 1st, Vancouver': \"'(49.2703309, -123.1027341)'\",\n",
       " '0001 10th & Cambie, Vancouver': \"'(49.2625027, -123.1144027)'\",\n",
       " '0191 7th & Laurel, Vancouver': \"'(49.2650434, -123.1237691)'\",\n",
       " '0140 Burrard & 7th, Vancouver': \"'(49.2653522, -123.1457925)'\",\n",
       " '0058 Homer & Smithe, Vancouver': \"'(49.2782142, -123.1186318)'\",\n",
       " '0134 14th & Main, Vancouver': \"'(49.2583876, -123.1007426)'\",\n",
       " '0211 14th & Alder, Vancouver': \"'(49.2588295, -123.1313655)'\",\n",
       " '0078 Nelson & Mainland, Vancouver': \"'(49.2765028, -123.1189009)'\",\n",
       " '0040 Cardero & Pendrell, Vancouver': \"'(49.2858157, -123.1378824)'\",\n",
       " '0088 Harwood & Bute, Vancouver': \"'(49.2802978, -123.1352757)'\",\n",
       " '0069 7th & Granville, Vancouver': \"'(49.2652855, -123.1381984)'\",\n",
       " '88w W 1st Ave, Vancouver': \"'(49.2712646, -123.1815532)'\",\n",
       " '0032 Comox & Denman, Vancouver': \"'(49.2885183, -123.1393327)'\",\n",
       " '0064 Expo & Smithe, Vancouver': \"'(49.2761354, -123.1145509)'\",\n",
       " '0187 Bute & Davie, Vancouver': \"'(49.2820425, -123.1330451)'\",\n",
       " '0092 Chilco & Barclay, Vancouver': \"'(49.2918468, -123.1407852)'\",\n",
       " '0165 Columbia & 4th, Vancouver': \"'(49.09788929575372, -116.50909187834395)'\",\n",
       " '0030 Abbott & Cordova, Vancouver': \"'(49.2826816, -123.107005)'\",\n",
       " '0167 Cordova & Columbia, Vancouver': \"'(49.2823936, -123.1020273)'\",\n",
       " '0006 Olympic Village Station, Vancouver': \"'(49.2665609, -123.1156986)'\",\n",
       " '0221 Glen & Union, Vancouver': \"'(49.2775071, -123.0812952)'\",\n",
       " '0179 11th & Kingsway, Vancouver': \"'(49.2611458, -123.0974366)'\",\n",
       " '0035 Coal Harbour Community Centre, Vancouver': \"'(49.2904179, -123.1258516)'\",\n",
       " '0173 1st & Columbia, Vancouver': \"'(49.2702092, -123.1091321)'\",\n",
       " '0206 8th & Scotia, Vancouver': \"'(49.2636196, -123.099236)'\",\n",
       " '0017 Marinaside & Davie, Vancouver': \"'(49.2735635, -123.1179519)'\",\n",
       " '0055 Keefer & Columbia, Vancouver': \"'(49.2793015, -123.1017685)'\",\n",
       " '0218 Carrall & Seawall, Vancouver': \"'(49.2762933, -123.1065399)'\",\n",
       " '0166 Alder & 11th, Vancouver': \"'(49.2617669, -123.1314892)'\",\n",
       " '0057 Marinaside & Cooperage, Vancouver': \"'(49.2738549, -123.114558)'\",\n",
       " '0015 Granville & Georgia, Vancouver': \"'(49.2823937, -123.1185854)'\",\n",
       " '0036 Bute & Robson, Vancouver': \"'(49.2858689, -123.1272595)'\",\n",
       " '0154 Kitsilano Park, Vancouver': \"'(49.2733557, -123.1545317)'\",\n",
       " '0028 Davie & Beach, Vancouver': \"'(49.2874692, -123.1420781)'\",\n",
       " '2120 Fir St, Vancouver': \"'(49.266794950000005, -123.1406193)'\",\n",
       " '0115 Cypress & 16th, Vancouver': \"'(49.2575397, -123.1484736)'\",\n",
       " '0244 10th & Commercial, Vancouver': \"'(49.261412, -123.0701593)'\",\n",
       " '0298 6th & Carolina, Vancouver': \"'(49.2652155, -123.0906761)'\",\n",
       " '0204 York & Yew, Vancouver': \"'(49.2717489, -123.1554804)'\",\n",
       " '0063 Robson & Granville, Vancouver': \"'(49.2815126, -123.1201536)'\",\n",
       " '0242 8th & Commercial, Vancouver': \"'(49.2632295, -123.0704772)'\",\n",
       " '0048 Comox & Broughton, Vancouver': \"'(49.2852898, -123.1343648)'\",\n",
       " '0138 Richards & Helmcken, Vancouver': \"'(49.2771762, -123.1225069)'\",\n",
       " '0234 Station & National, Vancouver': \"'(49.2743143, -123.0984626)'\",\n",
       " '0297 6th & Prince Edward, Vancouver': \"'(49.2652349, -123.0954559)'\",\n",
       " '0150 Alexander & Main, Vancouver': \"'(49.2841519, -123.0999589)'\",\n",
       " '0070 10th & Granville, Vancouver': \"'(49.2625924, -123.13888)'\",\n",
       " '0224 Pender & Commercial, Vancouver': \"'(49.2803186, -123.0700656)'\",\n",
       " '0239 Grant & Commercial, Vancouver': \"'(49.2713808, -123.0693525)'\",\n",
       " '0008 8th & Ash, Vancouver': \"'(49.2642151, -123.1178195)'\",\n",
       " '0252 Woodland & Graveley, Vancouver': \"'(49.2707346, -123.0736192)'\",\n",
       " '0215 Princess & Union, Vancouver': \"'(49.2777049, -123.0917253)'\",\n",
       " '991 Hornby St, Vancouver': \"'(49.2807276, -123.124928)'\",\n",
       " '0041 Cardero & Robson, Vancouver': \"'(49.2896124, -123.1321458)'\",\n",
       " '0081 7th & Heather, Vancouver': \"'(49.2650786, -123.1194282)'\",\n",
       " '0133 Ontario & 16th, Vancouver': \"'(49.256832, -123.1052746)'\",\n",
       " '0172 10th & Columbia, Vancouver': \"'(49.2622196, -123.1093161)'\",\n",
       " '0255 18th & Main, Vancouver': \"'(49.2546874, -123.1013355)'\",\n",
       " '0266 St Catherines & 7th, Vancouver': \"'(49.2644331, -123.0851365)'\",\n",
       " '0052 Cambie & Water, Vancouver': \"'(49.2846283, -123.1086152)'\",\n",
       " '1264 Bidwell St, Vancouver': \"'(49.2901121, -123.1344062)'\",\n",
       " '0050 Bute & Comox, Vancouver': \"'(49.2833805, -123.1310401)'\",\n",
       " '0024 Hornby & Pender, Vancouver': \"'(49.2860026, -123.116602)'\",\n",
       " '0199 Georgia & Main, Vancouver': \"'(49.2785197, -123.1000524)'\",\n",
       " '0253 Charles & Woodland, Vancouver': \"'(49.2731187, -123.0731844)'\",\n",
       " '0260 10th & Fraser, Vancouver': \"'(49.2614705, -123.0894872)'\",\n",
       " '0053 Keefer & Abbott, Vancouver': \"'(49.2797995, -123.1079267)'\",\n",
       " '0123 Georgia & Thurlow, Vancouver': \"'(49.2860549, -123.1241903)'\",\n",
       " '0258 13th & St George, Vancouver': \"'(49.2587815, -123.0927683)'\",\n",
       " '0087 Broughton & Burnaby, Vancouver': \"'(49.2832278, -123.1370254)'\",\n",
       " '0108 1st & Chestnut, Vancouver': \"'(49.2707276, -123.1461997)'\",\n",
       " '0212 Union & Dunlevy, Vancouver': \"'(49.2776095, -123.095793)'\",\n",
       " '0287 Carolina & Great Northern Way, Vancouver': \"'(49.2673905, -123.0907632)'\",\n",
       " '0076 Cypress & 4th, Vancouver': \"'(49.2682673, -123.1478672)'\",\n",
       " '0208 Arbutus Greenway & Broadway, Vancouver': \"'(49.263669, -123.1524524)'\",\n",
       " '0222 Adanac & McLean, Vancouver': \"'(49.2776591, -123.0735579)'\",\n",
       " '0283 15th & Knight, Vancouver': \"'(49.2565028, -123.0754794)'\",\n",
       " '0143 South False Creek Seawall, Vancouver': \"'(49.2676184, -123.1277051)'\",\n",
       " '0073 Ontario & 5th, Vancouver': \"'(49.2667096, -123.1047526)'\",\n",
       " '0083 Aquatic Centre, Vancouver': \"'(49.2781965, -123.1369457)'\",\n",
       " '0248 St George & Broadway, Vancouver': \"'(49.2623071, -123.0930671)'\",\n",
       " '0089 Burrard & Drake, Vancouver': \"'(49.2781301, -123.1305274)'\",\n",
       " '0119 3rd & Quebec, Vancouver': \"'(49.2682841, -123.1025436)'\",\n",
       " '0039 Helmcken & Burrard, Vancouver': \"'(49.2799185, -123.1274469)'\",\n",
       " '0198 6th & Main, Vancouver': \"'(49.2655497, -123.1002412)'\",\n",
       " '0107 8th & Ontario, Vancouver': \"'(49.2638169, -123.1052878)'\",\n",
       " '0171 5th & Yukon, Vancouver': \"'(49.2666646, -123.1124352)'\",\n",
       " '0034 Cordova & Bute, Vancouver': \"'(49.2890985, -123.121827)'\",\n",
       " '0027 Beatty & Nelson, Vancouver': \"'(49.275649, -123.1170024)'\",\n",
       " '0236 Keith & 6th, Vancouver': \"'(49.2649223, -123.0794519)'\",\n",
       " '0099 Vancouver Art Gallery - North Plaza, Vancouver': \"'(49.2831979, -123.1204825)'\",\n",
       " '0225 McLean & Pender, Vancouver': \"'(49.2801197, -123.0741648)'\",\n",
       " '0126 Thurlow & Pendrell, Vancouver': \"'(49.2808952, -123.130541)'\",\n",
       " '0229 Keefer & Princess, Vancouver': \"'(49.2793656, -123.0909411)'\",\n",
       " '0193 Science World, Vancouver': \"'(49.27345364999999, -123.10367393476372)'\",\n",
       " '0230 Alexander & Railway, Vancouver': \"'(49.2839923, -123.0911062)'\",\n",
       " '0016 Pender & Burrard, Vancouver': \"'(49.2871315, -123.1186171)'\",\n",
       " '0084 Sunset Beach West, Vancouver': \"'(49.2814372, -123.1398546)'\",\n",
       " '0045 Beach & Hornby, Vancouver': \"'(49.2752543, -123.1325611)'\",\n",
       " '0021 Cordova & Granville, Vancouver': \"'(49.286095, -123.1132237)'\",\n",
       " '0096 Nicola & Robson, Vancouver': \"'(49.2881444, -123.1320198)'\",\n",
       " '0136 David Lam Park - West, Vancouver': \"'(49.2709252, -123.1259935)'\",\n",
       " '0102 Stanley Park - Second Beach North, Vancouver': \"'(49.2953393, -123.1504703)'\",\n",
       " '0261 8th & Fraser, Vancouver': \"'(49.2634568, -123.0888362)'\",\n",
       " '0105 Stanley Park - Totem Poles, Vancouver': \"'(49.2986558, -123.1212092)'\",\n",
       " '0201 Shaw Tower, Vancouver': \"'(49.28842185, -123.1179687979728)'\",\n",
       " '0132 14th & Ontario, Vancouver': \"'(49.2584988, -123.1048152)'\",\n",
       " '0066 Anderson & 2nd, Vancouver': \"'(49.2695442, -123.1378336)'\",\n",
       " '0098 Carrall & Hastings, Vancouver': \"'(49.2810403, -123.1044111)'\",\n",
       " '0079 Nelson & Richards, Vancouver': \"'(49.2777729, -123.1208527)'\",\n",
       " '0009 Spyglass & Seawall, Vancouver': \"'(49.270861, -123.1150229)'\",\n",
       " '0033 Robson & Denman, Vancouver': \"'(49.2911956, -123.1352164)'\",\n",
       " '0238 Thornton & 1st, Vancouver': \"'(49.2675882, -123.0946697)'\",\n",
       " '0233 Thornton & National, Vancouver': \"'(49.2737663, -123.0927082)'\",\n",
       " '0082 Richards & Davie, Vancouver': \"'(49.2761513, -123.1238954)'\",\n",
       " '0068 Cypress & Broadway, Vancouver': \"'(49.2635448, -123.1480813)'\",\n",
       " '0072 14th & Cambie, Vancouver': \"'(49.2587688, -123.1152956)'\",\n",
       " '0054 Expo & Carrall, Vancouver': \"'(49.2780481, -123.1057008)'\",\n",
       " '0014 Canada Place, Vancouver': \"'(49.28840355, -123.11196557959752)'\",\n",
       " '0190 Melville & Bute, Vancouver': \"'(49.2877533, -123.1239048)'\",\n",
       " '0176 10th & Ontario, Vancouver': \"'(49.2620334, -123.1047242)'\",\n",
       " '0044 Pacific & Richards, Vancouver': \"'(49.2736427, -123.1270603)'\",\n",
       " '0106 Heather & 14th, Vancouver': \"'(49.2592543, -123.120086)'\",\n",
       " '0980 Workshop, Vancouver': \"'(49.2809886, -123.0260089)'\",\n",
       " '0012 Dunsmuir & Richards, Vancouver': \"'(49.2822199, -123.1141068)'\",\n",
       " '0026 Beatty & Robson, Vancouver': \"'(49.2774968, -123.114236)'\",\n",
       " '0148 Creekside Park North, Vancouver': \"'(49.2756105, -123.102698)'\",\n",
       " '0080 Laurel & Broadway, Vancouver': \"'(49.2631449, -123.1241301)'\",\n",
       " '0202 14th & Oak, Vancouver': \"'(49.258781, -123.1271099)'\",\n",
       " '0113 Arbutus & 16th, Vancouver': \"'(49.2576909, -123.1532696)'\",\n",
       " '0205 Pine & 10th, Vancouver': \"'(49.2629314, -123.1433487)'\",\n",
       " '0213 Pender & Gore, Vancouver': \"'(49.2802712, -123.0970897)'\",\n",
       " '0130 Heather & 16th, Vancouver': \"'(49.25676, -123.1200251)'\",\n",
       " '0007 12th & Yukon, Vancouver': \"'(49.2606046, -123.1134246)'\",\n",
       " '0227 Campbell & Hastings, Vancouver': \"'(49.2806434, -123.084749)'\",\n",
       " '0207 Alberni & Jervis, Vancouver': \"'(49.2876362, -123.1272215)'\",\n",
       " '0237 Glen & 6th, Vancouver': \"'(49.2649024, -123.0812237)'\",\n",
       " '0153 Arbutus Greenway, Vancouver': \"'(49.2667647, -123.1411494)'\",\n",
       " '0197 1st & Main, Vancouver': \"'(49.2700185, -123.1001259)'\",\n",
       " '0093 Chilco & Robson, Vancouver': \"'(49.2932024, -123.1386077)'\",\n",
       " '0254 Grandview Bike Lane & Commercial, Vancouver': \"'(49.2641012, -123.0707016)'\",\n",
       " '0047 Chilco & Beach, Vancouver': \"'(49.2896995, -123.1440082)'\",\n",
       " \"0010 Stamp's Landing, Vancouver\": \"'(49.2686127, -123.1180201)'\",\n",
       " '0152 Arbutus Greenway & 14th, Vancouver': \"'(49.2589484, -123.152613)'\",\n",
       " '0031 Morton & Denman, Vancouver': \"'(49.2880281, -123.1421802)'\",\n",
       " '0246 Glen & Broadway, Vancouver': \"'(49.2621314, -123.0814885)'\",\n",
       " '0240 2nd & Commercial, Vancouver': \"'(49.2686186, -123.0700509)'\",\n",
       " '0209 Stanley Park - Information Booth, Vancouver': \"'(49.2979505, -123.1306813)'\",\n",
       " '0245 Woodland & 10th, Vancouver': \"'(49.2612322, -123.0737544)'\",\n",
       " '0272 Pender & Victoria, Vancouver': \"'(49.2801793, -123.0660122)'\",\n",
       " '0262 8th & Prince Edward, Vancouver': \"'(49.2635225, -123.0956253)'\",\n",
       " '0186 10th & Kingsway, Vancouver': \"'(49.2619701, -123.0973416)'\",\n",
       " '799 Keefer St, Vancouver': \"'(49.2793756, -123.0874481)'\",\n",
       " '0192 7th &  Alder, Vancouver': \"'(49.2651767, -123.1310129)'\",\n",
       " '0109 7th & Arbutus, Vancouver': \"'(49.2656102, -123.1525342)'\",\n",
       " '0223 Commercial & Adanac, Vancouver': \"'(49.2773948, -123.0704165)'\",\n",
       " '0180 Columbia & 14th, Vancouver': \"'(49.2589114, -123.1095676)'\",\n",
       " '0125 Hamilton & Robson, Vancouver': \"'(49.2796325, -123.1150076)'\",\n",
       " '0025 Homer & Robson, Vancouver': \"'(49.2796591, -123.1162932)'\",\n",
       " '0159 Vine & 4th, Vancouver': \"'(49.2683741, -123.1574339)'\",\n",
       " '0285 Commercial & Pandora, Vancouver': \"'(49.2832115, -123.0703905)'\",\n",
       " '0139 Burrard & 4th, Vancouver': \"'(49.2678774, -123.1458085)'\",\n",
       " '0137 Beach & Seymour, Vancouver': \"'(49.2735405, -123.1298518)'\",\n",
       " '0104 Stanley Park - Second Beach South, Vancouver': \"'(49.2943135, -123.1487139)'\",\n",
       " '0232 Britannia Parking Lot, Vancouver': \"'(49.2758553, -123.0719018)'\",\n",
       " '0241 4th & Commercial, Vancouver': \"'(49.266962, -123.0700463)'\",\n",
       " '0147 Chestnut & McNicoll, Vancouver': \"'(49.2759635, -123.1460073)'\",\n",
       " '0103 Stanley Park - Third Beach Parking Lot, Vancouver': \"'(49.3026103, -123.1556398)'\",\n",
       " '0203 Pine & 14th, Vancouver': \"'(49.258866, -123.1435154)'\",\n",
       " '0110 5th & Arbutus, Vancouver': \"'(49.267233, -123.1531863)'\",\n",
       " '0101 Stanley Park - Vancouver Aquarium, Vancouver': \"'(49.2992547, -123.1303286)'\",\n",
       " '0071 14th & Granville, Vancouver': \"'(49.2589687, -123.1393495)'\",\n",
       " '0161 Alexander & Dunlevy, Vancouver': \"'(49.2840577, -123.095047)'\",\n",
       " '0155 Arbutus & McNicoll, Vancouver': \"'(49.2760877, -123.1513261)'\",\n",
       " '0274 Victoria & 10th, Vancouver': \"'(49.2611644, -123.0659828)'\",\n",
       " '0231 Napier & Commercial, Vancouver': \"'(49.274881, -123.0692936)'\",\n",
       " '0981 Workshop, Vancouver': \"'(49.2666761, -123.0734696)'\",\n",
       " '0250 Woodland & 4th, Vancouver': \"'(49.2772762, -123.0873497)'\",\n",
       " '0219 Hawks & Union, Vancouver': \"'(49.2757002, -123.14245)'\",\n",
       " '0077 Vanier Park, Vancouver': \"'(49.2730625, -123.069863)'\",\n",
       " '0235 Charles & Commercial, Vancouver': \"'(49.2567266, -123.0965455)'\",\n",
       " '0256 Prince Edward & 16th, Vancouver': \"'(49.2613191, -123.0852922)'\",\n",
       " '0265 St Catherines & 10th, Vancouver': \"'(49.2592367, -123.1482565)'\",\n",
       " '0114 Cypress & 14th, Vancouver': \"'(49.2666307, -123.0658618)'\",\n",
       " '0273 Victoria & 4th, Vancouver': \"'(49.2620812, -123.1018465)'\",\n",
       " '0074 10th & Main, Vancouver': \"'(49.2642309, -123.0738623)'\",\n",
       " '0249 7th & Woodland, Vancouver': \"'(49.2567901, -123.0656984)'\",\n",
       " '0278 15th & Victoria, Vancouver': \"'(49.2581393, -123.096343)'\",\n",
       " '0982 Workshop, Vancouver': \"'(49.2802916, -123.1176938)'\",\n",
       " '0257 Prince Edward & 14th, Vancouver': \"'(49.2833273, -123.1252595)'\",\n",
       " '0129 Richards & Robson, Vancouver': \"'(49.2639535, -123.1126594)'\",\n",
       " '0051 Smithe & Burrard, Vancouver': \"'(49.2848699, -123.128767)'\",\n",
       " '0170 8th & Yukon, Vancouver': \"'(43.8512779, -66.1146243)'\",\n",
       " '0300 Bute & Barclay, Vancouver': \"'(49.2727388, -123.0868787)'\",\n",
       " '0010 Stamps Landing, Vancouver': \"'(49.2844582, -123.1111846)'\",\n",
       " '0197 1st & Scotia, Vancouver': \"'(49.2730774, -123.1019946)'\"}"
      ]
     },
     "execution_count": 141,
     "metadata": {},
     "output_type": "execute_result"
    }
   ],
   "source": [
    "return_station_dictionary"
   ]
  },
  {
   "cell_type": "code",
   "execution_count": 142,
   "metadata": {},
   "outputs": [
    {
     "data": {
      "text/plain": [
       "{'0099 Vancouver Art Gallery - North Plaza, Vancouver': \"'(49.2831979, -123.1204825)'\",\n",
       " '0126 Thurlow & Pendrell, Vancouver': \"'(49.2808952, -123.130541)'\",\n",
       " '0244 10th & Commercial, Vancouver': \"'(49.261412, -123.0701593)'\",\n",
       " '0074 10th & Main, Vancouver': \"'(49.2620812, -123.1018465)'\",\n",
       " '0004 Yaletown-Roundhouse Station, Vancouver': \"'(49.2745376, -123.121905)'\",\n",
       " '0109 7th & Arbutus, Vancouver': \"'(49.2656102, -123.1525342)'\",\n",
       " '0019 Robson & Hornby, Vancouver': \"'(49.2827328, -123.1220614)'\",\n",
       " '0036 Bute & Robson, Vancouver': \"'(49.2858689, -123.1272595)'\",\n",
       " '0079 Nelson & Richards, Vancouver': \"'(49.2777729, -123.1208527)'\",\n",
       " '0134 14th & Main, Vancouver': \"'(49.2583876, -123.1007426)'\",\n",
       " '88w W 1st Ave, Vancouver': \"'(49.2712646, -123.1815532)'\",\n",
       " '0027 Beatty & Nelson, Vancouver': \"'(49.275649, -123.1170024)'\",\n",
       " '0287 Carolina & Great Northern Way, Vancouver': \"'(49.2673905, -123.0907632)'\",\n",
       " '0078 Nelson & Mainland, Vancouver': \"'(49.2765028, -123.1189009)'\",\n",
       " '0070 10th & Granville, Vancouver': \"'(49.2625924, -123.13888)'\",\n",
       " '0015 Granville & Georgia, Vancouver': \"'(49.2823937, -123.1185854)'\",\n",
       " '991 Hornby St, Vancouver': \"'(49.2807276, -123.124928)'\",\n",
       " '0055 Keefer & Columbia, Vancouver': \"'(49.2793015, -123.1017685)'\",\n",
       " '0063 Robson & Granville, Vancouver': \"'(49.2815126, -123.1201536)'\",\n",
       " '0191 7th & Laurel, Vancouver': \"'(49.2650434, -123.1237691)'\",\n",
       " '0080 Laurel & Broadway, Vancouver': \"'(49.2631449, -123.1241301)'\",\n",
       " '0050 Bute & Comox, Vancouver': \"'(49.2833805, -123.1310401)'\",\n",
       " '0005 Dunsmuir & Beatty, Vancouver': \"'(49.2797102, -123.1100831)'\",\n",
       " '0002 Burrard Station, Vancouver': \"'(49.2856364, -123.1198152)'\",\n",
       " '0092 Chilco & Barclay, Vancouver': \"'(49.2918468, -123.1407852)'\",\n",
       " '0107 8th & Ontario, Vancouver': \"'(49.2638169, -123.1052878)'\",\n",
       " '0021 Cordova & Granville, Vancouver': \"'(49.286095, -123.1132237)'\",\n",
       " '0081 7th & Heather, Vancouver': \"'(49.2650786, -123.1194282)'\",\n",
       " '0212 Union & Dunlevy, Vancouver': \"'(49.2776095, -123.095793)'\",\n",
       " '0196 Drake, Vancouver': \"'(49.2753898, -123.1267317)'\",\n",
       " '0030 Abbott & Cordova, Vancouver': \"'(49.2826816, -123.107005)'\",\n",
       " '0193 Science World, Vancouver': \"'(49.27345364999999, -123.10367393476372)'\",\n",
       " '0238 Thornton & 1st, Vancouver': \"'(49.2675882, -123.0946697)'\",\n",
       " '0298 6th & Carolina, Vancouver': \"'(49.2652155, -123.0906761)'\",\n",
       " '0258 13th & St George, Vancouver': \"'(49.2587815, -123.0927683)'\",\n",
       " '0171 5th & Yukon, Vancouver': \"'(49.2666646, -123.1124352)'\",\n",
       " '0008 8th & Ash, Vancouver': \"'(49.2642151, -123.1178195)'\",\n",
       " '0039 Helmcken & Burrard, Vancouver': \"'(49.2799185, -123.1274469)'\",\n",
       " '0123 Georgia & Thurlow, Vancouver': \"'(49.2860549, -123.1241903)'\",\n",
       " '0064 Expo & Smithe, Vancouver': \"'(49.2761354, -123.1145509)'\",\n",
       " '0280 Triumph & Victoria, Vancouver': \"'(49.2839768, -123.0652119)'\",\n",
       " '0072 14th & Cambie, Vancouver': \"'(49.2587688, -123.1152956)'\",\n",
       " '0077 Vanier Park, Vancouver': \"'(49.2757002, -123.14245)'\",\n",
       " '0041 Cardero & Robson, Vancouver': \"'(49.2896124, -123.1321458)'\",\n",
       " '0017 Marinaside & Davie, Vancouver': \"'(49.2735635, -123.1179519)'\",\n",
       " '0012 Dunsmuir & Richards, Vancouver': \"'(49.2822199, -123.1141068)'\",\n",
       " '0281 Windsor & 14th, Vancouver': \"'(49.2580237, -123.0833488)'\",\n",
       " '0187 Bute & Davie, Vancouver': \"'(49.2820425, -123.1330451)'\",\n",
       " '0088 Harwood & Bute, Vancouver': \"'(49.2802978, -123.1352757)'\",\n",
       " '0981 Workshop, Vancouver': \"'(49.2809886, -123.0260089)'\",\n",
       " '0073 Ontario & 5th, Vancouver': \"'(49.2667096, -123.1047526)'\",\n",
       " '0112 10th & Oak, Vancouver': \"'(49.2622734, -123.12616)'\",\n",
       " '0068 Cypress & Broadway, Vancouver': \"'(49.2635448, -123.1480813)'\",\n",
       " '0167 Cordova & Columbia, Vancouver': \"'(49.2823936, -123.1020273)'\",\n",
       " '0098 Carrall & Hastings, Vancouver': \"'(49.2810403, -123.1044111)'\",\n",
       " '0242 8th & Commercial, Vancouver': \"'(49.2632295, -123.0704772)'\",\n",
       " '0208 Arbutus Greenway & Broadway, Vancouver': \"'(49.263669, -123.1524524)'\",\n",
       " '0138 Richards & Helmcken, Vancouver': \"'(49.2771762, -123.1225069)'\",\n",
       " '0052 Cambie & Water, Vancouver': \"'(49.2846283, -123.1086152)'\",\n",
       " '0048 Comox & Broughton, Vancouver': \"'(49.2852898, -123.1343648)'\",\n",
       " '0154 Kitsilano Park, Vancouver': \"'(49.2733557, -123.1545317)'\",\n",
       " '0172 10th & Columbia, Vancouver': \"'(49.2622196, -123.1093161)'\",\n",
       " '0011 Ontario & Seawall, Vancouver': \"'(49.2716914, -123.1042968)'\",\n",
       " '0106 Heather & 14th, Vancouver': \"'(49.2592543, -123.120086)'\",\n",
       " '0001 10th & Cambie, Vancouver': \"'(49.2625027, -123.1144027)'\",\n",
       " '0108 1st & Chestnut, Vancouver': \"'(49.2707276, -123.1461997)'\",\n",
       " '0205 Pine & 10th, Vancouver': \"'(49.2629314, -123.1433487)'\",\n",
       " '0190 Melville & Bute, Vancouver': \"'(49.2877533, -123.1239048)'\",\n",
       " '0035 Coal Harbour Community Centre, Vancouver': \"'(49.2904179, -123.1258516)'\",\n",
       " '0130 Heather & 16th, Vancouver': \"'(49.25676, -123.1200251)'\",\n",
       " '0032 Comox & Denman, Vancouver': \"'(49.2885183, -123.1393327)'\",\n",
       " '0227 Campbell & Hastings, Vancouver': \"'(49.2806434, -123.084749)'\",\n",
       " '0179 11th & Kingsway, Vancouver': \"'(49.2611458, -123.0974366)'\",\n",
       " '0260 10th & Fraser, Vancouver': \"'(49.2614705, -123.0894872)'\",\n",
       " '0026 Beatty & Robson, Vancouver': \"'(49.2774968, -123.114236)'\",\n",
       " '0221 Glen & Union, Vancouver': \"'(49.2775071, -123.0812952)'\",\n",
       " '0066 Anderson & 2nd, Vancouver': \"'(49.2695442, -123.1378336)'\",\n",
       " '0024 Hornby & Pender, Vancouver': \"'(49.2860026, -123.116602)'\",\n",
       " '1264 Bidwell St, Vancouver': \"'(49.2901121, -123.1344062)'\",\n",
       " '0165 Columbia & 4th, Vancouver': \"'(49.09788929575372, -116.50909187834395)'\",\n",
       " '0053 Keefer & Abbott, Vancouver': \"'(49.2797995, -123.1079267)'\",\n",
       " '0159 Vine & 4th, Vancouver': \"'(49.2683741, -123.1574339)'\",\n",
       " '0006 Olympic Village Station, Vancouver': \"'(49.2665609, -123.1156986)'\",\n",
       " '0206 8th & Scotia, Vancouver': \"'(49.2636196, -123.099236)'\",\n",
       " '0222 Adanac & McLean, Vancouver': \"'(49.2776591, -123.0735579)'\",\n",
       " '0014 Canada Place, Vancouver': \"'(49.28840355, -123.11196557959752)'\",\n",
       " '0201 Shaw Tower, Vancouver': \"'(49.28842185, -123.1179687979728)'\",\n",
       " '0087 Broughton & Burnaby, Vancouver': \"'(49.2832278, -123.1370254)'\",\n",
       " '0199 Georgia & Main, Vancouver': \"'(49.2785197, -123.1000524)'\",\n",
       " '0254 Grandview Bike Lane & Commercial, Vancouver': \"'(49.2641012, -123.0707016)'\",\n",
       " '0140 Burrard & 7th, Vancouver': \"'(49.2653522, -123.1457925)'\",\n",
       " '0176 10th & Ontario, Vancouver': \"'(49.2620334, -123.1047242)'\",\n",
       " '0119 3rd & Quebec, Vancouver': \"'(49.2682841, -123.1025436)'\",\n",
       " '0225 McLean & Pender, Vancouver': \"'(49.2801197, -123.0741648)'\",\n",
       " '0218 Carrall & Seawall, Vancouver': \"'(49.2762933, -123.1065399)'\",\n",
       " '0125 Hamilton & Robson, Vancouver': \"'(49.2796325, -123.1150076)'\",\n",
       " '0230 Alexander & Railway, Vancouver': \"'(49.2839923, -123.0911062)'\",\n",
       " '0233 Thornton & National, Vancouver': \"'(49.2737663, -123.0927082)'\",\n",
       " '0150 Alexander & Main, Vancouver': \"'(49.2841519, -123.0999589)'\",\n",
       " '0009 Spyglass & Seawall, Vancouver': \"'(49.270861, -123.1150229)'\",\n",
       " '0040 Cardero & Pendrell, Vancouver': \"'(49.2858157, -123.1378824)'\",\n",
       " '0133 Ontario & 16th, Vancouver': \"'(49.256832, -123.1052746)'\",\n",
       " '0253 Charles & Woodland, Vancouver': \"'(49.2731187, -123.0731844)'\",\n",
       " '0045 Beach & Hornby, Vancouver': \"'(49.2752543, -123.1325611)'\",\n",
       " '0105 Stanley Park - Totem Poles, Vancouver': \"'(49.2986558, -123.1212092)'\",\n",
       " '0173 1st & Columbia, Vancouver': \"'(49.2702092, -123.1091321)'\",\n",
       " '0177 Quebec & 1st, Vancouver': \"'(49.2703309, -123.1027341)'\",\n",
       " '0096 Nicola & Robson, Vancouver': \"'(49.2881444, -123.1320198)'\",\n",
       " '0248 St George & Broadway, Vancouver': \"'(49.2623071, -123.0930671)'\",\n",
       " '0198 6th & Main, Vancouver': \"'(49.2655497, -123.1002412)'\",\n",
       " '0057 Marinaside & Cooperage, Vancouver': \"'(49.2738549, -123.114558)'\",\n",
       " '0054 Expo & Carrall, Vancouver': \"'(49.2780481, -123.1057008)'\",\n",
       " '0143 South False Creek Seawall, Vancouver': \"'(49.2676184, -123.1277051)'\",\n",
       " '0082 Richards & Davie, Vancouver': \"'(49.2761513, -123.1238954)'\",\n",
       " '0047 Chilco & Beach, Vancouver': \"'(49.2896995, -123.1440082)'\",\n",
       " '0237 Glen & 6th, Vancouver': \"'(49.2649024, -123.0812237)'\",\n",
       " '0211 14th & Alder, Vancouver': \"'(49.2588295, -123.1313655)'\",\n",
       " '0089 Burrard & Drake, Vancouver': \"'(49.2781301, -123.1305274)'\",\n",
       " '0132 14th & Ontario, Vancouver': \"'(49.2584988, -123.1048152)'\",\n",
       " '0236 Keith & 6th, Vancouver': \"'(49.2649223, -123.0794519)'\",\n",
       " '0071 14th & Granville, Vancouver': \"'(49.2589687, -123.1393495)'\",\n",
       " '0148 Creekside Park North, Vancouver': \"'(49.2756105, -123.102698)'\",\n",
       " '0272 Pender & Victoria, Vancouver': \"'(49.2801793, -123.0660122)'\",\n",
       " '0166 Alder & 11th, Vancouver': \"'(49.2617669, -123.1314892)'\",\n",
       " '0058 Homer & Smithe, Vancouver': \"'(49.2782142, -123.1186318)'\",\n",
       " '0255 18th & Main, Vancouver': \"'(49.2546874, -123.1013355)'\",\n",
       " '0115 Cypress & 16th, Vancouver': \"'(49.2575397, -123.1484736)'\",\n",
       " '0186 10th & Kingsway, Vancouver': \"'(49.2619701, -123.0973416)'\",\n",
       " '0044 Pacific & Richards, Vancouver': \"'(49.2736427, -123.1270603)'\",\n",
       " '0262 8th & Prince Edward, Vancouver': \"'(49.2635225, -123.0956253)'\",\n",
       " '0139 Burrard & 4th, Vancouver': \"'(49.2678774, -123.1458085)'\",\n",
       " '0076 Cypress & 4th, Vancouver': \"'(49.2682673, -123.1478672)'\",\n",
       " '0283 15th & Knight, Vancouver': \"'(49.2565028, -123.0754794)'\",\n",
       " '0250 Woodland & 4th, Vancouver': \"'(49.2666761, -123.0734696)'\",\n",
       " '0083 Aquatic Centre, Vancouver': \"'(49.2781965, -123.1369457)'\",\n",
       " '0215 Princess & Union, Vancouver': \"'(49.2777049, -123.0917253)'\",\n",
       " '0252 Woodland & Graveley, Vancouver': \"'(49.2707346, -123.0736192)'\",\n",
       " '0266 St Catherines & 7th, Vancouver': \"'(49.2644331, -123.0851365)'\",\n",
       " '0110 5th & Arbutus, Vancouver': \"'(49.267233, -123.1531863)'\",\n",
       " '0065 Cypress & Cornwall, Vancouver': \"'(49.2727532, -123.1477204)'\",\n",
       " '0297 6th & Prince Edward, Vancouver': \"'(49.2652349, -123.0954559)'\",\n",
       " '0239 Grant & Commercial, Vancouver': \"'(49.2713808, -123.0693525)'\",\n",
       " '0114 Cypress & 14th, Vancouver': \"'(49.2592367, -123.1482565)'\",\n",
       " '0113 Arbutus & 16th, Vancouver': \"'(49.2576909, -123.1532696)'\",\n",
       " '0093 Chilco & Robson, Vancouver': \"'(49.2932024, -123.1386077)'\",\n",
       " '0069 7th & Granville, Vancouver': \"'(49.2652855, -123.1381984)'\",\n",
       " '0136 David Lam Park - West, Vancouver': \"'(49.2709252, -123.1259935)'\",\n",
       " '0161 Alexander & Dunlevy, Vancouver': \"'(49.2840577, -123.095047)'\",\n",
       " '0152 Arbutus Greenway & 14th, Vancouver': \"'(49.2589484, -123.152613)'\",\n",
       " '0197 1st & Main, Vancouver': \"'(49.2700185, -123.1001259)'\",\n",
       " '0016 Pender & Burrard, Vancouver': \"'(49.2871315, -123.1186171)'\",\n",
       " '0207 Alberni & Jervis, Vancouver': \"'(49.2876362, -123.1272215)'\",\n",
       " '0033 Robson & Denman, Vancouver': \"'(49.2911956, -123.1352164)'\",\n",
       " '0229 Keefer & Princess, Vancouver': \"'(49.2793656, -123.0909411)'\",\n",
       " '0246 Glen & Broadway, Vancouver': \"'(49.2621314, -123.0814885)'\",\n",
       " '0232 Britannia Parking Lot, Vancouver': \"'(49.2758553, -123.0719018)'\",\n",
       " '0241 4th & Commercial, Vancouver': \"'(49.266962, -123.0700463)'\",\n",
       " '0147 Chestnut & McNicoll, Vancouver': \"'(49.2759635, -123.1460073)'\",\n",
       " '0025 Homer & Robson, Vancouver': \"'(49.2796591, -123.1162932)'\",\n",
       " '0034 Cordova & Bute, Vancouver': \"'(49.2890985, -123.121827)'\",\n",
       " '0155 Arbutus & McNicoll, Vancouver': \"'(49.2760877, -123.1513261)'\",\n",
       " '0209 Stanley Park - Information Booth, Vancouver': \"'(49.2979505, -123.1306813)'\",\n",
       " '0235 Charles & Commercial, Vancouver': \"'(49.2730625, -123.069863)'\",\n",
       " '0007 12th & Yukon, Vancouver': \"'(49.2606046, -123.1134246)'\",\n",
       " '0285 Commercial & Pandora, Vancouver': \"'(49.2832115, -123.0703905)'\",\n",
       " '0234 Station & National, Vancouver': \"'(49.2743143, -123.0984626)'\",\n",
       " '0223 Commercial & Adanac, Vancouver': \"'(49.2773948, -123.0704165)'\",\n",
       " '0103 Stanley Park - Third Beach Parking Lot, Vancouver': \"'(49.3026103, -123.1556398)'\",\n",
       " '0031 Morton & Denman, Vancouver': \"'(49.2880281, -123.1421802)'\",\n",
       " '0104 Stanley Park - Second Beach South, Vancouver': \"'(49.2943135, -123.1487139)'\",\n",
       " '0203 Pine & 14th, Vancouver': \"'(49.258866, -123.1435154)'\",\n",
       " '0028 Davie & Beach, Vancouver': \"'(49.2874692, -123.1420781)'\",\n",
       " '0102 Stanley Park - Second Beach North, Vancouver': \"'(49.2953393, -123.1504703)'\",\n",
       " '0219 Hawks & Union, Vancouver': \"'(49.2772762, -123.0873497)'\",\n",
       " '0192 7th &  Alder, Vancouver': \"'(49.2651767, -123.1310129)'\",\n",
       " '0101 Stanley Park - Vancouver Aquarium, Vancouver': \"'(49.2992547, -123.1303286)'\",\n",
       " '0137 Beach & Seymour, Vancouver': \"'(49.2735405, -123.1298518)'\",\n",
       " '0180 Columbia & 14th, Vancouver': \"'(49.2589114, -123.1095676)'\",\n",
       " '0084 Sunset Beach West, Vancouver': \"'(49.2814372, -123.1398546)'\",\n",
       " '0231 Napier & Commercial, Vancouver': \"'(49.274881, -123.0692936)'\",\n",
       " \"0010 Stamp's Landing, Vancouver\": \"'(49.2686127, -123.1180201)'\",\n",
       " '0224 Pender & Commercial, Vancouver': \"'(49.2803186, -123.0700656)'\",\n",
       " '0261 8th & Fraser, Vancouver': \"'(49.2634568, -123.0888362)'\",\n",
       " '0153 Arbutus Greenway, Vancouver': \"'(49.2667647, -123.1411494)'\",\n",
       " '2120 Fir St, Vancouver': \"'(49.266794950000005, -123.1406193)'\",\n",
       " '0202 14th & Oak, Vancouver': \"'(49.258781, -123.1271099)'\",\n",
       " '0213 Pender & Gore, Vancouver': \"'(49.2802712, -123.0970897)'\",\n",
       " '0240 2nd & Commercial, Vancouver': \"'(49.2686186, -123.0700509)'\",\n",
       " '0249 7th & Woodland, Vancouver': \"'(49.2642309, -123.0738623)'\",\n",
       " '0204 York & Yew, Vancouver': \"'(49.2717489, -123.1554804)'\",\n",
       " '0256 Prince Edward & 16th, Vancouver': \"'(49.2567266, -123.0965455)'\",\n",
       " '0245 Woodland & 10th, Vancouver': \"'(49.2612322, -123.0737544)'\",\n",
       " '0257 Prince Edward & 14th, Vancouver': \"'(49.2581393, -123.096343)'\",\n",
       " '0274 Victoria & 10th, Vancouver': \"'(49.2611644, -123.0659828)'\",\n",
       " '0265 St Catherines & 10th, Vancouver': \"'(49.2613191, -123.0852922)'\",\n",
       " '0278 15th & Victoria, Vancouver': \"'(49.2567901, -123.0656984)'\",\n",
       " '0273 Victoria & 4th, Vancouver': \"'(49.2666307, -123.0658618)'\",\n",
       " '799 Keefer St, Vancouver': \"'(49.2793756, -123.0874481)'\",\n",
       " '0980 Workshop, Vancouver': \"'(49.2802916, -123.1176938)'\",\n",
       " '0129 Richards & Robson, Vancouver': \"'(49.2833273, -123.1252595)'\",\n",
       " '0051 Smithe & Burrard, Vancouver': \"'(49.2639535, -123.1126594)'\",\n",
       " '0170 8th & Yukon, Vancouver': \"'(49.2848699, -123.128767)'\",\n",
       " '0300 Bute & Barclay, Vancouver': \"'(43.8512779, -66.1146243)'\",\n",
       " '0982 Workshop, Vancouver': \"'(49.2603835, -123.1131629)'\",\n",
       " '0991 Workshop, Vancouver': \"'(49.2727388, -123.0868787)'\",\n",
       " '0010 Stamps Landing, Vancouver': \"'(49.2844582, -123.1111846)'\",\n",
       " '0217 Smithe & Burrard, Vancouver': \"'(49.2730774, -123.1019946)'\"}"
      ]
     },
     "execution_count": 142,
     "metadata": {},
     "output_type": "execute_result"
    }
   ],
   "source": [
    "departure_station_dictionary"
   ]
  },
  {
   "cell_type": "code",
   "execution_count": 143,
   "metadata": {},
   "outputs": [
    {
     "data": {
      "text/plain": [
       "0    (49.2831979, -123.1204825)\n",
       "Name: Departure station Lat & Long, dtype: object"
      ]
     },
     "execution_count": 143,
     "metadata": {},
     "output_type": "execute_result"
    }
   ],
   "source": [
    "mobi['Departure station Lat & Long']= mobi['Departure station Lat & Long'].replace(departure_station_dictionary)\n",
    "mobi['Departure station Lat & Long']= mobi['Departure station Lat & Long'].str.strip(\"''\")\n",
    "mobi['Departure station Lat & Long'].head(1)"
   ]
  },
  {
   "cell_type": "code",
   "execution_count": 144,
   "metadata": {},
   "outputs": [
    {
     "data": {
      "text/plain": [
       "0    (49.2753898, -123.1267317)\n",
       "Name: Return station Lat & Long, dtype: object"
      ]
     },
     "execution_count": 144,
     "metadata": {},
     "output_type": "execute_result"
    }
   ],
   "source": [
    "mobi['Return station Lat & Long'] = mobi['Return station Lat & Long'].replace(return_station_dictionary)\n",
    "mobi['Return station Lat & Long']= mobi['Return station Lat & Long'].str.strip(\"''\")\n",
    "mobi['Return station Lat & Long'].head(1)"
   ]
  },
  {
   "cell_type": "code",
   "execution_count": 145,
   "metadata": {},
   "outputs": [],
   "source": [
    "mobi['Departure Latitude'], mobi['Departure Longitude']= mobi['Departure station Lat & Long'].str.split(',',1).str\n",
    "mobi['Return Latitude'], mobi['Return Longitude']= mobi['Return station Lat & Long'].str.split(',',1).str"
   ]
  },
  {
   "cell_type": "code",
   "execution_count": 146,
   "metadata": {},
   "outputs": [],
   "source": [
    "mobi['Departure Latitude'] = mobi['Departure Latitude'].str.strip('(')\n",
    "mobi['Departure Longitude'] = mobi['Departure Longitude'].str.strip(')')\n",
    "\n",
    "mobi['Return Latitude']= mobi['Return Latitude'].str.strip('(')\n",
    "mobi['Return Longitude']= mobi['Return Longitude'].str.strip(')')"
   ]
  },
  {
   "cell_type": "code",
   "execution_count": 147,
   "metadata": {},
   "outputs": [],
   "source": [
    "mobi= mobi.drop(['Departure station Lat & Long','Return station Lat & Long'],axis=1)"
   ]
  },
  {
   "cell_type": "code",
   "execution_count": 148,
   "metadata": {},
   "outputs": [
    {
     "data": {
      "text/plain": [
       "Index(['Departure', 'Return', 'Bike', 'Departure station', 'Return station',\n",
       "       'Membership type', 'Covered distance (m)', 'Duration (sec.)',\n",
       "       'Departure battery voltage (mV)', 'Return battery voltage (mV)',\n",
       "       'Departure temperature (C)', 'Return temperature (C)',\n",
       "       'Stopover duration (sec.)', 'Number of stopovers',\n",
       "       'Number of bike stopovers', 'Trip Id', 'Duration (min.)',\n",
       "       'Stopover duration (min.)', 'Departure Latitude', 'Departure Longitude',\n",
       "       'Return Latitude', 'Return Longitude'],\n",
       "      dtype='object')"
      ]
     },
     "execution_count": 148,
     "metadata": {},
     "output_type": "execute_result"
    }
   ],
   "source": [
    "mobi.keys()"
   ]
  },
  {
   "cell_type": "code",
   "execution_count": 149,
   "metadata": {},
   "outputs": [],
   "source": [
    "mobi= mobi.drop(['Departure station','Return station','Covered distance (m)',\n",
    "                'Duration (min.)'], axis=1)"
   ]
  },
  {
   "cell_type": "code",
   "execution_count": 150,
   "metadata": {},
   "outputs": [],
   "source": [
    "all_columns = mobi.keys()\n",
    "mobi_geo = pd.DataFrame(mobi, columns=all_columns)\n",
    "\n",
    "mobi_geo.to_csv('mobi_geo.csv', index=False)"
   ]
  },
  {
   "cell_type": "code",
   "execution_count": 191,
   "metadata": {},
   "outputs": [
    {
     "data": {
      "text/html": [
       "<div>\n",
       "<style scoped>\n",
       "    .dataframe tbody tr th:only-of-type {\n",
       "        vertical-align: middle;\n",
       "    }\n",
       "\n",
       "    .dataframe tbody tr th {\n",
       "        vertical-align: top;\n",
       "    }\n",
       "\n",
       "    .dataframe thead th {\n",
       "        text-align: right;\n",
       "    }\n",
       "</style>\n",
       "<table border=\"1\" class=\"dataframe\">\n",
       "  <thead>\n",
       "    <tr style=\"text-align: right;\">\n",
       "      <th></th>\n",
       "      <th>Departure</th>\n",
       "      <th>Return</th>\n",
       "      <th>Bike</th>\n",
       "      <th>Membership type</th>\n",
       "      <th>Duration (sec.)</th>\n",
       "      <th>Departure battery voltage (mV)</th>\n",
       "      <th>Return battery voltage (mV)</th>\n",
       "      <th>Departure temperature (C)</th>\n",
       "      <th>Return temperature (C)</th>\n",
       "      <th>Stopover duration (sec.)</th>\n",
       "      <th>Number of stopovers</th>\n",
       "      <th>Number of bike stopovers</th>\n",
       "      <th>Trip Id</th>\n",
       "      <th>Stopover duration (min.)</th>\n",
       "      <th>Departure Latitude</th>\n",
       "      <th>Departure Longitude</th>\n",
       "      <th>Return Latitude</th>\n",
       "      <th>Return Longitude</th>\n",
       "    </tr>\n",
       "  </thead>\n",
       "  <tbody>\n",
       "    <tr>\n",
       "      <th>0</th>\n",
       "      <td>2020-02-01 0:00</td>\n",
       "      <td>2020-02-01 0:00</td>\n",
       "      <td>522.0</td>\n",
       "      <td>365 Plus</td>\n",
       "      <td>323</td>\n",
       "      <td>3881</td>\n",
       "      <td>4001</td>\n",
       "      <td>12</td>\n",
       "      <td>13</td>\n",
       "      <td>0</td>\n",
       "      <td>0.0</td>\n",
       "      <td>0.0</td>\n",
       "      <td>1000001</td>\n",
       "      <td>0.0</td>\n",
       "      <td>49.2832</td>\n",
       "      <td>-123.12</td>\n",
       "      <td>49.2754</td>\n",
       "      <td>-123.127</td>\n",
       "    </tr>\n",
       "  </tbody>\n",
       "</table>\n",
       "</div>"
      ],
      "text/plain": [
       "         Departure           Return   Bike Membership type  Duration (sec.)  \\\n",
       "0  2020-02-01 0:00  2020-02-01 0:00  522.0        365 Plus              323   \n",
       "\n",
       "   Departure battery voltage (mV)  Return battery voltage (mV)  \\\n",
       "0                            3881                         4001   \n",
       "\n",
       "   Departure temperature (C)  Return temperature (C)  \\\n",
       "0                         12                      13   \n",
       "\n",
       "   Stopover duration (sec.)  Number of stopovers  Number of bike stopovers  \\\n",
       "0                         0                  0.0                       0.0   \n",
       "\n",
       "   Trip Id  Stopover duration (min.) Departure Latitude Departure Longitude  \\\n",
       "0  1000001                       0.0            49.2832             -123.12   \n",
       "\n",
       "  Return Latitude Return Longitude  \n",
       "0         49.2754         -123.127  "
      ]
     },
     "execution_count": 191,
     "metadata": {},
     "output_type": "execute_result"
    }
   ],
   "source": [
    "mobi_geo = pd.read_csv('mobi_geo.csv')\n",
    "mobi_geo.head(1)"
   ]
  },
  {
   "cell_type": "code",
   "execution_count": 192,
   "metadata": {},
   "outputs": [],
   "source": [
    "mobi_geo['Departure Latitude'] = pd.to_numeric(mobi_geo['Departure Latitude'],errors='coerce')\n",
    "mobi_geo['Departure Longitude']= pd.to_numeric(mobi_geo['Departure Longitude'],errors='coerce')\n",
    "\n",
    "mobi_geo['Return Latitude']=pd.to_numeric(mobi_geo['Return Latitude'],errors='coerce')\n",
    "mobi_geo['Return Longitude']=pd.to_numeric(mobi_geo['Return Longitude'],errors='coerce')"
   ]
  },
  {
   "cell_type": "code",
   "execution_count": 193,
   "metadata": {
    "scrolled": false
   },
   "outputs": [
    {
     "name": "stdout",
     "output_type": "stream",
     "text": [
      "<class 'pandas.core.frame.DataFrame'>\n",
      "RangeIndex: 572029 entries, 0 to 572028\n",
      "Data columns (total 18 columns):\n",
      " #   Column                          Non-Null Count   Dtype  \n",
      "---  ------                          --------------   -----  \n",
      " 0   Departure                       572029 non-null  object \n",
      " 1   Return                          572029 non-null  object \n",
      " 2   Bike                            572029 non-null  float64\n",
      " 3   Membership type                 572029 non-null  object \n",
      " 4   Duration (sec.)                 572029 non-null  int64  \n",
      " 5   Departure battery voltage (mV)  572029 non-null  int64  \n",
      " 6   Return battery voltage (mV)     572029 non-null  int64  \n",
      " 7   Departure temperature (C)       572029 non-null  int64  \n",
      " 8   Return temperature (C)          572029 non-null  int64  \n",
      " 9   Stopover duration (sec.)        572029 non-null  int64  \n",
      " 10  Number of stopovers             572029 non-null  float64\n",
      " 11  Number of bike stopovers        572029 non-null  float64\n",
      " 12  Trip Id                         572029 non-null  int64  \n",
      " 13  Stopover duration (min.)        572029 non-null  float64\n",
      " 14  Departure Latitude              569399 non-null  float64\n",
      " 15  Departure Longitude             569399 non-null  float64\n",
      " 16  Return Latitude                 569059 non-null  float64\n",
      " 17  Return Longitude                569059 non-null  float64\n",
      "dtypes: float64(8), int64(7), object(3)\n",
      "memory usage: 78.6+ MB\n"
     ]
    }
   ],
   "source": [
    "mobi_geo.info()"
   ]
  },
  {
   "cell_type": "markdown",
   "metadata": {},
   "source": [
    "FEATURES:"
   ]
  },
  {
   "cell_type": "code",
   "execution_count": 194,
   "metadata": {},
   "outputs": [],
   "source": [
    "mobi_geo['Departure'] = pd.to_datetime(mobi_geo['Departure'])"
   ]
  },
  {
   "cell_type": "code",
   "execution_count": 195,
   "metadata": {},
   "outputs": [],
   "source": [
    "mobi_geo['Departure Day of Week'] = mobi_geo.Departure.dt.dayofweek\n",
    "mobi_geo['Departure Day of Month'] = mobi_geo.Departure.dt.day\n",
    "mobi_geo['Departure Day of Year'] = mobi_geo.Departure.dt.dayofyear\n",
    "mobi_geo['Departure Month'] = mobi_geo.Departure.dt.month\n",
    "mobi_geo['Departure Year'] = mobi_geo.Departure.dt.year"
   ]
  },
  {
   "cell_type": "markdown",
   "metadata": {},
   "source": [
    "Working day & weekend"
   ]
  },
  {
   "cell_type": "code",
   "execution_count": 196,
   "metadata": {},
   "outputs": [
    {
     "data": {
      "text/plain": [
       "1    0.860927\n",
       "0    0.139073\n",
       "Name: Working Day, dtype: float64"
      ]
     },
     "execution_count": 196,
     "metadata": {},
     "output_type": "execute_result"
    }
   ],
   "source": [
    "work_day_or_not = [1,0] #1 -> working day\n",
    "cut_bins= [-1,5,6]\n",
    "mobi_geo['Working Day'] = pd.cut(mobi_geo['Departure Day of Week'], bins=cut_bins, labels=work_day_or_not)\n",
    "mobi_geo['Working Day'].value_counts(normalize=True)"
   ]
  },
  {
   "cell_type": "code",
   "execution_count": 197,
   "metadata": {},
   "outputs": [],
   "source": [
    "mobi_geo['Working Day'] = mobi_geo['Working Day'].astype(int)"
   ]
  },
  {
   "cell_type": "markdown",
   "metadata": {},
   "source": [
    "The insight here is, 86% of bike uses happen during the week, which makes them clear \n",
    "'to work or school' commutes."
   ]
  },
  {
   "cell_type": "markdown",
   "metadata": {},
   "source": [
    "Seasons of the year"
   ]
  },
  {
   "cell_type": "code",
   "execution_count": 198,
   "metadata": {},
   "outputs": [
    {
     "name": "stdout",
     "output_type": "stream",
     "text": [
      "Distribution of bike service usage\n"
     ]
    },
    {
     "data": {
      "text/plain": [
       "2    0.415519\n",
       "1    0.213877\n",
       "3    0.192226\n",
       "4    0.178377\n",
       "Name: Season, dtype: float64"
      ]
     },
     "execution_count": 198,
     "metadata": {},
     "output_type": "execute_result"
    }
   ],
   "source": [
    "bins = [0, 91, 183, 275, 366]\n",
    "labels=['4', '1', '2', '3']  #'Winter'=4, 'Spring'=1, 'Summer'=2, 'Fall=3'\n",
    "\n",
    "mobi_geo['Season'] = pd.cut(mobi_geo['Departure Day of Year'] + 11 - 366*(mobi_geo['Departure Day of Year'] > 355), \n",
    "                        bins=bins, labels=labels)\n",
    "print('Distribution of bike service usage')\n",
    "mobi_geo['Season'].value_counts(normalize=True)"
   ]
  },
  {
   "cell_type": "code",
   "execution_count": 199,
   "metadata": {},
   "outputs": [
    {
     "data": {
      "text/plain": [
       "Text(0.5, 1.0, 'Spring=1, Summer=2, Fall=3, Winter=4,')"
      ]
     },
     "execution_count": 199,
     "metadata": {},
     "output_type": "execute_result"
    },
    {
     "data": {
      "image/png": "[encoded data removed]",
      "text/plain": [
       "<Figure size 432x288 with 1 Axes>"
      ]
     },
     "metadata": {
      "needs_background": "light"
     },
     "output_type": "display_data"
    }
   ],
   "source": [
    "mobi_geo.groupby('Season')['Trip Id'].mean().plot.bar(color='lightblue').set_title(\"Spring=1, Summer=2, Fall=3, Winter=4,\")"
   ]
  },
  {
   "cell_type": "code",
   "execution_count": 200,
   "metadata": {},
   "outputs": [
    {
     "data": {
      "text/plain": [
       "Index(['Departure', 'Return', 'Bike', 'Membership type', 'Duration (sec.)',\n",
       "       'Departure battery voltage (mV)', 'Return battery voltage (mV)',\n",
       "       'Departure temperature (C)', 'Return temperature (C)',\n",
       "       'Stopover duration (sec.)', 'Number of stopovers',\n",
       "       'Number of bike stopovers', 'Trip Id', 'Stopover duration (min.)',\n",
       "       'Departure Latitude', 'Departure Longitude', 'Return Latitude',\n",
       "       'Return Longitude', 'Departure Day of Week', 'Departure Day of Month',\n",
       "       'Departure Day of Year', 'Departure Month', 'Departure Year',\n",
       "       'Working Day', 'Season'],\n",
       "      dtype='object')"
      ]
     },
     "execution_count": 200,
     "metadata": {},
     "output_type": "execute_result"
    }
   ],
   "source": [
    "mobi_geo.keys()"
   ]
  },
  {
   "cell_type": "code",
   "execution_count": 201,
   "metadata": {},
   "outputs": [],
   "source": [
    "mobi_geo['Season'] = mobi_geo['Season'].astype(int)"
   ]
  },
  {
   "cell_type": "code",
   "execution_count": 202,
   "metadata": {},
   "outputs": [],
   "source": [
    "mobi_geo = mobi_geo.drop(['Departure','Return'], axis=1)"
   ]
  },
  {
   "cell_type": "markdown",
   "metadata": {},
   "source": [
    "# Data preprocessing and encoding"
   ]
  },
  {
   "cell_type": "code",
   "execution_count": 203,
   "metadata": {},
   "outputs": [
    {
     "data": {
      "text/plain": [
       "array([dtype('float64'), dtype('O'), dtype('int64')], dtype=object)"
      ]
     },
     "execution_count": 203,
     "metadata": {},
     "output_type": "execute_result"
    }
   ],
   "source": [
    "mobi_geo.dtypes.unique() # check all unique dtypes"
   ]
  },
  {
   "cell_type": "code",
   "execution_count": 204,
   "metadata": {},
   "outputs": [
    {
     "data": {
      "text/plain": [
       "['Membership type']"
      ]
     },
     "execution_count": 204,
     "metadata": {},
     "output_type": "execute_result"
    }
   ],
   "source": [
    "cat_features = [f for f in mobi_geo.columns if mobi_geo[f].dtype not in ['int64','float64']]\n",
    "cat_features"
   ]
  },
  {
   "cell_type": "code",
   "execution_count": 205,
   "metadata": {},
   "outputs": [
    {
     "data": {
      "text/html": [
       "<div>\n",
       "<style scoped>\n",
       "    .dataframe tbody tr th:only-of-type {\n",
       "        vertical-align: middle;\n",
       "    }\n",
       "\n",
       "    .dataframe tbody tr th {\n",
       "        vertical-align: top;\n",
       "    }\n",
       "\n",
       "    .dataframe thead th {\n",
       "        text-align: right;\n",
       "    }\n",
       "</style>\n",
       "<table border=\"1\" class=\"dataframe\">\n",
       "  <thead>\n",
       "    <tr style=\"text-align: right;\">\n",
       "      <th></th>\n",
       "      <th>column</th>\n",
       "      <th>cnt_nan</th>\n",
       "    </tr>\n",
       "  </thead>\n",
       "  <tbody>\n",
       "    <tr>\n",
       "      <th>0</th>\n",
       "      <td>Membership type</td>\n",
       "      <td>0</td>\n",
       "    </tr>\n",
       "  </tbody>\n",
       "</table>\n",
       "</div>"
      ],
      "text/plain": [
       "            column  cnt_nan\n",
       "0  Membership type        0"
      ]
     },
     "execution_count": 205,
     "metadata": {},
     "output_type": "execute_result"
    }
   ],
   "source": [
    "nan_info = pd.DataFrame(mobi_geo[cat_features].isnull().sum()).reset_index() # get columns which has NAN\n",
    "nan_info.columns = ['column','cnt_nan']\n",
    "nan_info.sort_values('cnt_nan',ascending=False,inplace=True)\n",
    "nan_info"
   ]
  },
  {
   "cell_type": "code",
   "execution_count": 206,
   "metadata": {},
   "outputs": [],
   "source": [
    "\n",
    "mobi_geo['Membership type'] = LabelEncoder().fit_transform(mobi_geo['Membership type'])"
   ]
  },
  {
   "cell_type": "code",
   "execution_count": 207,
   "metadata": {},
   "outputs": [
    {
     "data": {
      "text/plain": [
       "['Bike',\n",
       " 'Departure battery voltage (mV)',\n",
       " 'Return battery voltage (mV)',\n",
       " 'Departure temperature (C)',\n",
       " 'Return temperature (C)',\n",
       " 'Stopover duration (sec.)',\n",
       " 'Number of stopovers',\n",
       " 'Number of bike stopovers',\n",
       " 'Stopover duration (min.)',\n",
       " 'Departure Latitude',\n",
       " 'Departure Longitude',\n",
       " 'Return Latitude',\n",
       " 'Return Longitude',\n",
       " 'Departure Day of Week',\n",
       " 'Departure Day of Month',\n",
       " 'Departure Day of Year',\n",
       " 'Departure Month',\n",
       " 'Departure Year',\n",
       " 'Working Day',\n",
       " 'Season']"
      ]
     },
     "execution_count": 207,
     "metadata": {},
     "output_type": "execute_result"
    }
   ],
   "source": [
    "num_features = [f for f in mobi_geo.columns if (f not in cat_features) and f not in ['Trip Id','Duration (sec.)']]\n",
    "num_features"
   ]
  },
  {
   "cell_type": "code",
   "execution_count": 208,
   "metadata": {},
   "outputs": [
    {
     "data": {
      "text/html": [
       "<div>\n",
       "<style scoped>\n",
       "    .dataframe tbody tr th:only-of-type {\n",
       "        vertical-align: middle;\n",
       "    }\n",
       "\n",
       "    .dataframe tbody tr th {\n",
       "        vertical-align: top;\n",
       "    }\n",
       "\n",
       "    .dataframe thead th {\n",
       "        text-align: right;\n",
       "    }\n",
       "</style>\n",
       "<table border=\"1\" class=\"dataframe\">\n",
       "  <thead>\n",
       "    <tr style=\"text-align: right;\">\n",
       "      <th></th>\n",
       "      <th>column</th>\n",
       "      <th>cnt_nan</th>\n",
       "    </tr>\n",
       "  </thead>\n",
       "  <tbody>\n",
       "    <tr>\n",
       "      <th>11</th>\n",
       "      <td>Return Latitude</td>\n",
       "      <td>2970</td>\n",
       "    </tr>\n",
       "    <tr>\n",
       "      <th>12</th>\n",
       "      <td>Return Longitude</td>\n",
       "      <td>2970</td>\n",
       "    </tr>\n",
       "    <tr>\n",
       "      <th>10</th>\n",
       "      <td>Departure Longitude</td>\n",
       "      <td>2630</td>\n",
       "    </tr>\n",
       "    <tr>\n",
       "      <th>9</th>\n",
       "      <td>Departure Latitude</td>\n",
       "      <td>2630</td>\n",
       "    </tr>\n",
       "    <tr>\n",
       "      <th>18</th>\n",
       "      <td>Working Day</td>\n",
       "      <td>0</td>\n",
       "    </tr>\n",
       "    <tr>\n",
       "      <th>17</th>\n",
       "      <td>Departure Year</td>\n",
       "      <td>0</td>\n",
       "    </tr>\n",
       "    <tr>\n",
       "      <th>16</th>\n",
       "      <td>Departure Month</td>\n",
       "      <td>0</td>\n",
       "    </tr>\n",
       "    <tr>\n",
       "      <th>15</th>\n",
       "      <td>Departure Day of Year</td>\n",
       "      <td>0</td>\n",
       "    </tr>\n",
       "    <tr>\n",
       "      <th>14</th>\n",
       "      <td>Departure Day of Month</td>\n",
       "      <td>0</td>\n",
       "    </tr>\n",
       "    <tr>\n",
       "      <th>13</th>\n",
       "      <td>Departure Day of Week</td>\n",
       "      <td>0</td>\n",
       "    </tr>\n",
       "    <tr>\n",
       "      <th>0</th>\n",
       "      <td>Bike</td>\n",
       "      <td>0</td>\n",
       "    </tr>\n",
       "    <tr>\n",
       "      <th>1</th>\n",
       "      <td>Departure battery voltage (mV)</td>\n",
       "      <td>0</td>\n",
       "    </tr>\n",
       "    <tr>\n",
       "      <th>8</th>\n",
       "      <td>Stopover duration (min.)</td>\n",
       "      <td>0</td>\n",
       "    </tr>\n",
       "    <tr>\n",
       "      <th>7</th>\n",
       "      <td>Number of bike stopovers</td>\n",
       "      <td>0</td>\n",
       "    </tr>\n",
       "    <tr>\n",
       "      <th>6</th>\n",
       "      <td>Number of stopovers</td>\n",
       "      <td>0</td>\n",
       "    </tr>\n",
       "    <tr>\n",
       "      <th>5</th>\n",
       "      <td>Stopover duration (sec.)</td>\n",
       "      <td>0</td>\n",
       "    </tr>\n",
       "    <tr>\n",
       "      <th>4</th>\n",
       "      <td>Return temperature (C)</td>\n",
       "      <td>0</td>\n",
       "    </tr>\n",
       "    <tr>\n",
       "      <th>3</th>\n",
       "      <td>Departure temperature (C)</td>\n",
       "      <td>0</td>\n",
       "    </tr>\n",
       "    <tr>\n",
       "      <th>2</th>\n",
       "      <td>Return battery voltage (mV)</td>\n",
       "      <td>0</td>\n",
       "    </tr>\n",
       "    <tr>\n",
       "      <th>19</th>\n",
       "      <td>Season</td>\n",
       "      <td>0</td>\n",
       "    </tr>\n",
       "  </tbody>\n",
       "</table>\n",
       "</div>"
      ],
      "text/plain": [
       "                            column  cnt_nan\n",
       "11                 Return Latitude     2970\n",
       "12                Return Longitude     2970\n",
       "10             Departure Longitude     2630\n",
       "9               Departure Latitude     2630\n",
       "18                     Working Day        0\n",
       "17                  Departure Year        0\n",
       "16                 Departure Month        0\n",
       "15           Departure Day of Year        0\n",
       "14          Departure Day of Month        0\n",
       "13           Departure Day of Week        0\n",
       "0                             Bike        0\n",
       "1   Departure battery voltage (mV)        0\n",
       "8         Stopover duration (min.)        0\n",
       "7         Number of bike stopovers        0\n",
       "6              Number of stopovers        0\n",
       "5         Stopover duration (sec.)        0\n",
       "4           Return temperature (C)        0\n",
       "3        Departure temperature (C)        0\n",
       "2      Return battery voltage (mV)        0\n",
       "19                          Season        0"
      ]
     },
     "execution_count": 208,
     "metadata": {},
     "output_type": "execute_result"
    }
   ],
   "source": [
    "nan_info = pd.DataFrame(mobi_geo[num_features].isnull().sum()).reset_index() # get nan info for numerical features\n",
    "nan_info.columns = ['column','cnt_nan']\n",
    "nan_info.sort_values('cnt_nan',ascending=False,inplace=True)\n",
    "nan_info"
   ]
  },
  {
   "cell_type": "code",
   "execution_count": 209,
   "metadata": {},
   "outputs": [
    {
     "data": {
      "text/plain": [
       "array(['Return Latitude', 'Return Longitude', 'Departure Longitude',\n",
       "       'Departure Latitude'], dtype=object)"
      ]
     },
     "execution_count": 209,
     "metadata": {},
     "output_type": "execute_result"
    }
   ],
   "source": [
    "cols = nan_info.loc[nan_info.cnt_nan>0]['column'].values\n",
    "cols"
   ]
  },
  {
   "cell_type": "code",
   "execution_count": 210,
   "metadata": {},
   "outputs": [],
   "source": [
    "for f in cols:\n",
    "    mobi_geo[f] = mobi_geo[f].fillna(mobi_geo[f].mean())"
   ]
  },
  {
   "cell_type": "code",
   "execution_count": 211,
   "metadata": {},
   "outputs": [
    {
     "data": {
      "text/plain": [
       "0"
      ]
     },
     "execution_count": 211,
     "metadata": {},
     "output_type": "execute_result"
    }
   ],
   "source": [
    "mobi_geo.isnull().sum().sum() ### no missing values any more"
   ]
  },
  {
   "cell_type": "markdown",
   "metadata": {},
   "source": [
    "# Model Training"
   ]
  },
  {
   "cell_type": "code",
   "execution_count": 212,
   "metadata": {},
   "outputs": [],
   "source": [
    "from sklearn.preprocessing import LabelEncoder\n",
    "from sklearn.model_selection import train_test_split"
   ]
  },
  {
   "cell_type": "code",
   "execution_count": 213,
   "metadata": {},
   "outputs": [
    {
     "data": {
      "text/plain": [
       "((572029, 21), 572029)"
      ]
     },
     "execution_count": 213,
     "metadata": {},
     "output_type": "execute_result"
    }
   ],
   "source": [
    "# get X and y, X input, y target\n",
    "\n",
    "features = [f for f in mobi_geo.columns if f not in ['Trip Id','Duration (sec.)']]\n",
    "X = mobi_geo[features]\n",
    "y = mobi_geo['Duration (sec.)']\n",
    "X.shape,len(y)"
   ]
  },
  {
   "cell_type": "code",
   "execution_count": 214,
   "metadata": {},
   "outputs": [
    {
     "name": "stdout",
     "output_type": "stream",
     "text": [
      "(457623, 21) (143008, 14) 457623 114406\n"
     ]
    }
   ],
   "source": [
    "#split out for some validation, using train_test_split \n",
    "X_train, X_test, y_train, y_test = train_test_split(X,y, random_state=4, test_size=0.2)\n",
    "\n",
    "#X_train,X_valid, y_train,y_valid = train_test_split(X,y,shuffle=True,random_state=10, test_size=0.25)\n",
    "print(X_train.shape,X_valid.shape,len(y_train),len(y_test))"
   ]
  },
  {
   "cell_type": "code",
   "execution_count": 215,
   "metadata": {},
   "outputs": [],
   "source": [
    "X_train.reset_index(drop=True,inplace=True)\n",
    "y_train.reset_index(drop=True,inplace=True)"
   ]
  },
  {
   "cell_type": "markdown",
   "metadata": {},
   "source": [
    "Linear regressor for the raw data"
   ]
  },
  {
   "cell_type": "code",
   "execution_count": 216,
   "metadata": {},
   "outputs": [],
   "source": [
    "from sklearn.linear_model import LinearRegression\n",
    "from sklearn.ensemble import RandomForestRegressor\n",
    "from xgboost import XGBRegressor\n",
    "from sklearn import metrics\n",
    "from sklearn.model_selection import train_test_split, GridSearchCV\n",
    "\n",
    "import statsmodels.formula.api as sm\n",
    "from sklearn.model_selection import learning_curve\n",
    "from sklearn.model_selection import ShuffleSplit\n",
    "import warnings; warnings.simplefilter('ignore')"
   ]
  },
  {
   "cell_type": "code",
   "execution_count": 217,
   "metadata": {},
   "outputs": [
    {
     "data": {
      "text/plain": [
       "LinearRegression()"
      ]
     },
     "execution_count": 217,
     "metadata": {},
     "output_type": "execute_result"
    }
   ],
   "source": [
    "#Linear regressor for the raw data\n",
    "regressor = LinearRegression() \n",
    "regressor.fit(X_train,y_train) "
   ]
  },
  {
   "cell_type": "code",
   "execution_count": 218,
   "metadata": {},
   "outputs": [],
   "source": [
    "#Predict from the test features of raw data\n",
    "y_pred = regressor.predict(X_test)  "
   ]
  },
  {
   "cell_type": "code",
   "execution_count": 219,
   "metadata": {},
   "outputs": [
    {
     "name": "stdout",
     "output_type": "stream",
     "text": [
      "RMSE score for the Multiple LR raw is : 5994.579460903852\n",
      "Variance score for the Multiple LR raw is : 0.52\n",
      "\n",
      "\n"
     ]
    }
   ],
   "source": [
    "#Evaluate the regressor on the raw data\n",
    "print('RMSE score for the Multiple LR raw is : {}'.format(np.sqrt(metrics.mean_squared_error(y_test,y_pred))))\n",
    "print('Variance score for the Multiple LR raw is : %.2f' % regressor.score(X_test, y_test))\n",
    "print(\"\\n\")"
   ]
  },
  {
   "cell_type": "markdown",
   "metadata": {},
   "source": [
    "Random Forest Regressor"
   ]
  },
  {
   "cell_type": "code",
   "execution_count": 220,
   "metadata": {},
   "outputs": [],
   "source": [
    "regressor_rf = RandomForestRegressor(n_jobs=-1)"
   ]
  },
  {
   "cell_type": "code",
   "execution_count": 221,
   "metadata": {},
   "outputs": [
    {
     "data": {
      "text/plain": [
       "RandomForestRegressor(n_jobs=-1)"
      ]
     },
     "execution_count": 221,
     "metadata": {},
     "output_type": "execute_result"
    }
   ],
   "source": [
    "regressor_rf.fit(X_train,y_train)\n",
    "\n"
   ]
  },
  {
   "cell_type": "code",
   "execution_count": 222,
   "metadata": {},
   "outputs": [],
   "source": [
    "\n",
    "y_pred = regressor_rf.predict(X_test)\n"
   ]
  },
  {
   "cell_type": "code",
   "execution_count": 223,
   "metadata": {},
   "outputs": [
    {
     "name": "stdout",
     "output_type": "stream",
     "text": [
      "RMSE score for the RF regressor is : 6697.545511648032\n",
      "RMSLE score for the RF regressor is : 0.9418582272688056\n",
      "Variance score for the RF regressor is : 0.40\n"
     ]
    }
   ],
   "source": [
    "print('RMSE score for the RF regressor is : {}'.format(np.sqrt(metrics.mean_squared_error(y_test,y_pred))))\n",
    "print('RMSLE score for the RF regressor is : {}'.format(np.sqrt(metrics.mean_squared_log_error(y_test,y_pred))))\n",
    "print('Variance score for the RF regressor is : %.2f' % regressor_rf.score(X_test, y_test))"
   ]
  },
  {
   "cell_type": "markdown",
   "metadata": {},
   "source": [
    "XGBoost regressor"
   ]
  },
  {
   "cell_type": "code",
   "execution_count": 224,
   "metadata": {},
   "outputs": [],
   "source": [
    "regressor_xgb = XGBRegressor(n_estimators=300,\n",
    "                            learning_rate=0.08,\n",
    "                            gamma=0,\n",
    "                            subsample=0.75,\n",
    "                            colsample_bytree=1,\n",
    "                            max_depth=7,\n",
    "                            min_child_weight=4,\n",
    "                            silent=1,\n",
    "                           n_jobs=-1)"
   ]
  },
  {
   "cell_type": "code",
   "execution_count": 225,
   "metadata": {},
   "outputs": [
    {
     "data": {
      "text/plain": [
       "XGBRegressor(learning_rate=0.08, max_depth=7, min_child_weight=4,\n",
       "             n_estimators=300, n_jobs=-1, silent=1, subsample=0.75)"
      ]
     },
     "execution_count": 225,
     "metadata": {},
     "output_type": "execute_result"
    }
   ],
   "source": [
    "regressor_xgb.fit(X_train,y_train)\n"
   ]
  },
  {
   "cell_type": "code",
   "execution_count": 226,
   "metadata": {},
   "outputs": [],
   "source": [
    "y_pred = regressor_xgb.predict(X_test)\n"
   ]
  },
  {
   "cell_type": "code",
   "execution_count": 227,
   "metadata": {},
   "outputs": [
    {
     "name": "stdout",
     "output_type": "stream",
     "text": [
      "RMSE score for the XGBoost regressor is : 6517.113594144167\n",
      "Variance score for the XGBoost regressor is : 0.44\n"
     ]
    }
   ],
   "source": [
    "print('RMSE score for the XGBoost regressor is : {}'.format(np.sqrt(metrics.mean_squared_error(y_test,y_pred))))\n",
    "print('Variance score for the XGBoost regressor is : %.2f' % regressor_xgb.score(X_test, y_test))"
   ]
  },
  {
   "cell_type": "markdown",
   "metadata": {},
   "source": [
    "Decision tree for feature importance on a classification problem"
   ]
  },
  {
   "cell_type": "code",
   "execution_count": 228,
   "metadata": {},
   "outputs": [],
   "source": [
    "from sklearn.datasets import make_classification\n",
    "from sklearn.tree import DecisionTreeClassifier\n",
    "from matplotlib import pyplot"
   ]
  },
  {
   "cell_type": "code",
   "execution_count": null,
   "metadata": {},
   "outputs": [],
   "source": []
  },
  {
   "cell_type": "code",
   "execution_count": 240,
   "metadata": {},
   "outputs": [],
   "source": [
    "# Dataseet definition \n",
    "\n",
    "X, y = make_classification(n_samples=1000, n_features=20, n_informative=5, random_state=1)"
   ]
  },
  {
   "cell_type": "code",
   "execution_count": 241,
   "metadata": {},
   "outputs": [],
   "source": [
    "# Model definition\n",
    "\n",
    "model = DecisionTreeClassifier()"
   ]
  },
  {
   "cell_type": "code",
   "execution_count": 242,
   "metadata": {},
   "outputs": [
    {
     "data": {
      "text/plain": [
       "DecisionTreeClassifier()"
      ]
     },
     "execution_count": 242,
     "metadata": {},
     "output_type": "execute_result"
    }
   ],
   "source": [
    "# Model fitting\n",
    "\n",
    "model.fit(X, y)"
   ]
  },
  {
   "cell_type": "code",
   "execution_count": 243,
   "metadata": {},
   "outputs": [],
   "source": [
    "# get importance\n",
    "importance = model.feature_importances_"
   ]
  },
  {
   "cell_type": "code",
   "execution_count": 244,
   "metadata": {},
   "outputs": [
    {
     "name": "stdout",
     "output_type": "stream",
     "text": [
      "Feature: 0, Score: 0.33721\n",
      "Feature: 1, Score: 0.01205\n",
      "Feature: 2, Score: 0.08897\n",
      "Feature: 3, Score: 0.00809\n",
      "Feature: 4, Score: 0.01058\n",
      "Feature: 5, Score: 0.01753\n",
      "Feature: 6, Score: 0.01238\n",
      "Feature: 7, Score: 0.03727\n",
      "Feature: 8, Score: 0.01452\n",
      "Feature: 9, Score: 0.02219\n",
      "Feature: 10, Score: 0.01071\n",
      "Feature: 11, Score: 0.01451\n",
      "Feature: 12, Score: 0.02060\n",
      "Feature: 13, Score: 0.01295\n",
      "Feature: 14, Score: 0.08178\n",
      "Feature: 15, Score: 0.01172\n",
      "Feature: 16, Score: 0.03713\n",
      "Feature: 17, Score: 0.20072\n",
      "Feature: 18, Score: 0.04708\n",
      "Feature: 19, Score: 0.00200\n"
     ]
    }
   ],
   "source": [
    "# Feature importance summary \n",
    "for i,v in enumerate(importance):\n",
    "    print('Feature: %0d, Score: %.5f' % (i,v))"
   ]
  },
  {
   "cell_type": "code",
   "execution_count": 245,
   "metadata": {},
   "outputs": [
    {
     "data": {
      "image/png": "[encoded data removed]",
      "text/plain": [
       "<Figure size 432x288 with 1 Axes>"
      ]
     },
     "metadata": {
      "needs_background": "light"
     },
     "output_type": "display_data"
    }
   ],
   "source": [
    "# plot feature importance\n",
    "pyplot.bar([x for x in range(len(importance))], importance)\n",
    "pyplot.show()"
   ]
  },
  {
   "cell_type": "code",
   "execution_count": null,
   "metadata": {},
   "outputs": [],
   "source": []
  }
 ],
 "metadata": {
  "kernelspec": {
   "display_name": "Python 3",
   "language": "python",
   "name": "python3"
  },
  "language_info": {
   "codemirror_mode": {
    "name": "ipython",
    "version": 3
   },
   "file_extension": ".py",
   "mimetype": "text/x-python",
   "name": "python",
   "nbconvert_exporter": "python",
   "pygments_lexer": "ipython3",
   "version": "3.7.6"
  }
 },
 "nbformat": 4,
 "nbformat_minor": 4
}
